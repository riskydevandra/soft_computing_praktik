{
  "cells": [
    {
      "cell_type": "markdown",
      "metadata": {
        "id": "view-in-github",
        "colab_type": "text"
      },
      "source": [
        "<a href=\"https://colab.research.google.com/github/riskydevandra/soft_computing_praktik/blob/main/nndl_m13a_5200411476.ipynb\" target=\"_parent\"><img src=\"https://colab.research.google.com/assets/colab-badge.svg\" alt=\"Open In Colab\"/></a>"
      ]
    },
    {
      "cell_type": "markdown",
      "source": [
        "NPM : 5200411476\n",
        "\n",
        "---\n",
        "\n",
        "NAMA : risky devandra hartana"
      ],
      "metadata": {
        "id": "7WoYqF5w3FYA"
      },
      "id": "7WoYqF5w3FYA"
    },
    {
      "cell_type": "markdown",
      "source": [
        "## Algoritma Genetika (Optimasi Kontinu)"
      ],
      "metadata": {
        "id": "tB9pkPZNSnTT"
      },
      "id": "tB9pkPZNSnTT"
    },
    {
      "cell_type": "markdown",
      "source": [
        "### Library"
      ],
      "metadata": {
        "id": "hNn4AlH_WmHB"
      },
      "id": "hNn4AlH_WmHB"
    },
    {
      "cell_type": "code",
      "source": [
        "import numpy as np\n",
        "import random\n",
        "import matplotlib.pyplot as plt"
      ],
      "metadata": {
        "id": "dHz2OP-X3Prh"
      },
      "id": "dHz2OP-X3Prh",
      "execution_count": null,
      "outputs": []
    },
    {
      "cell_type": "markdown",
      "source": [
        "### parameter algoritma genetika"
      ],
      "metadata": {
        "id": "OfFYs2ziWha6"
      },
      "id": "OfFYs2ziWha6"
    },
    {
      "cell_type": "code",
      "source": [
        "# parameter algoritma genetika\n",
        "# inisialisasi parameter GA\n",
        "#ukuran populasi\n",
        "uk_pop = 10\n",
        "\n",
        "max_generasi = 100 # untuk melakukan putar pada setiap proses (generasi)\n",
        "bts_bawah = -3\n",
        "bts_atas = 5\n",
        "jum_var = 2\n",
        "jum_gen_per_var = 4\n",
        "jum_gen = jum_var * jum_gen_per_var\n",
        "# print(\"Jumlah gen = \", jum_gen)\n",
        "pc = 0.8 # peluang crossover\n",
        "pm = 0.1 \n",
        "best_kromoson = []\n",
        "best_fitness = 0\n",
        "best_genotipe = []\n",
        "list_best_fitness = []\n",
        "max_fitness = 165"
      ],
      "metadata": {
        "id": "jH1dFBy73dtX"
      },
      "id": "jH1dFBy73dtX",
      "execution_count": null,
      "outputs": []
    },
    {
      "cell_type": "markdown",
      "source": [
        "### kromosom / populasi"
      ],
      "metadata": {
        "id": "O7jPot7jWp0x"
      },
      "id": "O7jPot7jWp0x"
    },
    {
      "cell_type": "code",
      "source": [
        "# populasi biner\n",
        "kromosom = np.round(np.random.rand(uk_pop, jum_gen))\n",
        "# print(kromosom)\n",
        "print(\"kromosom =\", len(kromosom))"
      ],
      "metadata": {
        "colab": {
          "base_uri": "https://localhost:8080/"
        },
        "id": "G-Nz0VEY4YOZ",
        "outputId": "35cc33ec-ecd4-4b63-965d-3a613fe7ea3e"
      },
      "id": "G-Nz0VEY4YOZ",
      "execution_count": null,
      "outputs": [
        {
          "output_type": "stream",
          "name": "stdout",
          "text": [
            "kromosom = 10\n"
          ]
        }
      ]
    },
    {
      "cell_type": "markdown",
      "source": [
        "Dekode Kromosom Biner ke Desimal"
      ],
      "metadata": {
        "id": "wUIf7j6L1_eE"
      },
      "id": "wUIf7j6L1_eE"
    },
    {
      "cell_type": "code",
      "source": [
        "def dekode_biner_to_desimal(krom):\n",
        "  idx_awal = 0\n",
        "  idx_akhir = jum_gen_per_var\n",
        "  desimal= []\n",
        "\n",
        "  for i in range(jum_var):\n",
        "    k = krom[idx_awal:idx_akhir]\n",
        "    temp1 = 0\n",
        "    temp2 = 0\n",
        "\n",
        "    for j in range(jum_gen_per_var):\n",
        "      temp1 = temp1 + (k[j] * 2**(-(j+1)))\n",
        "      temp2 = temp2 + 2**(-(j+1))\n",
        "    \n",
        "    temp_desimal = bts_bawah + (bts_atas - bts_bawah/temp2) * temp1\n",
        "\n",
        "    desimal.append(round(temp_desimal))\n",
        "    idx_awal = idx_akhir\n",
        "    idx_akhir = idx_akhir + jum_gen_per_var\n",
        "\n",
        "  return desimal"
      ],
      "metadata": {
        "id": "PikGyvkZ2E_j"
      },
      "id": "PikGyvkZ2E_j",
      "execution_count": null,
      "outputs": []
    },
    {
      "cell_type": "markdown",
      "source": [
        "### fungsi fitness"
      ],
      "metadata": {
        "id": "03lOWDUnWuUZ"
      },
      "id": "03lOWDUnWuUZ"
    },
    {
      "cell_type": "code",
      "source": [
        "def hitung_fitness(x):\n",
        "  # y = 1000 * (x[0] - 2 * X[1] **2 + (1 - x[0])) **2\n",
        "  # y = 1 / (x[0]**2 + x[1]**2 + 0.001)\n",
        "  y = 2 * x[0]**2 - 5 * x[1] + 100\n",
        "  y = round(y)\n",
        "  \n",
        "  return y"
      ],
      "metadata": {
        "id": "wTYd9Ek-4-X2"
      },
      "id": "wTYd9Ek-4-X2",
      "execution_count": null,
      "outputs": []
    },
    {
      "cell_type": "code",
      "source": [
        "# linear fitness ranking\n",
        "def linear_fitness_ranking(fitness):\n",
        "  sort_fitness = sorted(fitness)\n",
        "  max_fitness = sort_fitness[-1] # ambil elemen terakhir\n",
        "  min_fitness = sort_fitness[0]\n",
        "  LFR = []\n",
        "  for i in range(uk_pop):\n",
        "    LFR.append(max_fitness - (max_fitness - min_fitness) * ((i+1)-1) / (uk_pop-1))\n",
        "    \n",
        "\n",
        "  return LFR"
      ],
      "metadata": {
        "id": "DhBGHF1F57Dm"
      },
      "id": "DhBGHF1F57Dm",
      "execution_count": null,
      "outputs": []
    },
    {
      "cell_type": "markdown",
      "source": [
        "### seleksi orang tua"
      ],
      "metadata": {
        "id": "BjosztJKXXOp"
      },
      "id": "BjosztJKXXOp"
    },
    {
      "cell_type": "code",
      "source": [
        "# seleksi orang tua (roulette wheel)\n",
        "def roulette_wheel(krom, fitness):\n",
        "  # menskalakan nilai fitness dengan linear fitness ranking\n",
        "  LFR = linear_fitness_ranking(fitness)\n",
        "\n",
        "  # membuat proporsi nilai fitness tiap kromosom\n",
        "  kumulatif_fitness = 0\n",
        "  acak = random.uniform(0,1)\n",
        "  idx_induk = 0\n",
        "  for i in range(uk_pop):\n",
        "    kumulatif_fitness = kumulatif_fitness + (LFR[i] / sum(LFR))\n",
        "    if (kumulatif_fitness > acak):\n",
        "      idx_induk = i\n",
        "      break\n",
        "  \n",
        "  return idx_induk"
      ],
      "metadata": {
        "id": "tbqqgr9h6lQd"
      },
      "id": "tbqqgr9h6lQd",
      "execution_count": null,
      "outputs": []
    },
    {
      "cell_type": "markdown",
      "source": [
        "### Crossover"
      ],
      "metadata": {
        "id": "Ls-h7V-xWYkY"
      },
      "id": "Ls-h7V-xWYkY"
    },
    {
      "cell_type": "code",
      "source": [
        "# rekombinasi satu titik\n",
        "def crossover_1_titik(krom1, krom2):\n",
        "  # konversi array ke list agar bisa diconcate\n",
        "  krom1 = list(krom1)\n",
        "  krom2 = list(krom2)\n",
        "\n",
        "  # tentukan titik potong\n",
        "  titik = int(np.fix(np.random.rand() * jum_gen) + 1)\n",
        "\n",
        "  # menukar gen\n",
        "  anak1 = krom1[0:titik] + krom2[titik:]\n",
        "  anak2 = krom2[0:titik] + krom1[titik:]\n",
        "  \n",
        "  return anak1, anak2\n"
      ],
      "metadata": {
        "id": "hsqD4l-a7bN2"
      },
      "id": "hsqD4l-a7bN2",
      "execution_count": null,
      "outputs": []
    },
    {
      "cell_type": "code",
      "source": [
        "# rekombinasi banyak titik\n",
        "def crossover_n_titik(krom1, krom2, jum_titik_potong=1):\n",
        "  # konversi array ke list agar bisa diconcate\n",
        "  krom1 = list(krom1)\n",
        "  krom2 = list(krom2)\n",
        "\n",
        "  # tentukan titik potong\n",
        "  batas = 0\n",
        "  titik = []\n",
        "  pembagi = int(np.fix(jum_gen / jum_titik_potong))\n",
        "  for i in range(jum_titik_potong):\n",
        "    acak = int(np.fix(np.random.rand() * pembagi + 1))\n",
        "    batas = batas + acak\n",
        "    titik.append(batas)\n",
        "  titik.append(jum_gen)\n",
        "\n",
        "  # tukar gen\n",
        "  anak1 =[]\n",
        "  anak2 =[]\n",
        "  idx = 0\n",
        "  for i in range(len(titik)):\n",
        "    # tukar gen ketika i genap (agar pertukaran selang - selang antara genjil dan genap)\n",
        "    if (i % 2 == 0):\n",
        "      anak1 = anak1 + krom2[idx:titik[i]]\n",
        "      anak2 = anak2 + krom1[idx:titik[i]]\n",
        "    else:\n",
        "      anak1 = anak1 + krom1[idx:titik[i]]\n",
        "      anak2 = anak2 + krom2[idx:titik[i]]\n",
        "    idx = titik[i]\n",
        "\n",
        "  return anak1, anak2"
      ],
      "metadata": {
        "id": "2seTpSob8mAd"
      },
      "id": "2seTpSob8mAd",
      "execution_count": null,
      "outputs": []
    },
    {
      "cell_type": "code",
      "source": [
        "# rekombinasi seragam\n",
        "def crossover_uniform(krom1, krom2):\n",
        "  pola = np.round(np>random.rand(jum_gen))\n",
        "  anak1 = krom1\n",
        "  anak2 = krom2\n",
        "  for i in range(jum_gen):\n",
        "    if (pola[i] == 1):\n",
        "      # tukar gen\n",
        "      anak1[i], anak2[i] = anak2[i], anak1[i]\n",
        "      \n",
        "  return anak1, anak2"
      ],
      "metadata": {
        "id": "VlxezGFe-NZs"
      },
      "id": "VlxezGFe-NZs",
      "execution_count": null,
      "outputs": []
    },
    {
      "cell_type": "markdown",
      "source": [
        "### mutasi"
      ],
      "metadata": {
        "id": "G2Ep7YOQW2V4"
      },
      "id": "G2Ep7YOQW2V4"
    },
    {
      "cell_type": "code",
      "source": [
        "# mutasi biner\n",
        "def mutasi_biner(krom):\n",
        "  acak = random.uniform(0,1)\n",
        "  for j in range(jum_gen):\n",
        "    if(acak <= pm):\n",
        "      krom[j] = 1 - krom[j]\n",
        "  \n",
        "  return krom"
      ],
      "metadata": {
        "id": "eaLcEcP7-ypV"
      },
      "id": "eaLcEcP7-ypV",
      "execution_count": null,
      "outputs": []
    },
    {
      "cell_type": "markdown",
      "source": [
        "### proses evolusi"
      ],
      "metadata": {
        "id": "XC3i0bCPW5cX"
      },
      "id": "XC3i0bCPW5cX"
    },
    {
      "cell_type": "code",
      "source": [
        "# ----------------------------------------------------------\n",
        "# proses evolusi kromosom\n",
        "# ----------------------------------------------------------\n",
        "generasi = 0\n",
        "while (generasi < max_generasi and best_fitness < max_fitness):\n",
        "  # evaluasi fitness\n",
        "  desimal = []\n",
        "  fitness = []\n",
        "  for j in range(uk_pop):\n",
        "    des = dekode_biner_to_desimal(kromosom[j])\n",
        "    fit = hitung_fitness(des)\n",
        "    desimal.append(des)\n",
        "    fitness.append(fit)\n",
        "\n",
        "    if (best_fitness < fit):\n",
        "      best_fitness = fit\n",
        "      idx_best_kromosom = j\n",
        "      best_kromosom = kromosom[j].copy()\n",
        "      best_genotipe = desimal[j].copy() # karena tidak ada dekode kromosom\n",
        "\n",
        "  # simpan best_fitness dari semua kromosom di tiap generasi\n",
        "  list_best_fitness.append(best_fitness)\n",
        "\n",
        "  # tampilkan informasi tiap generasi\n",
        "  print(\"Generasi Ke-\" + str(generasi) + \" ==> \" + str(best_genotipe) + \" = \" + str(best_fitness))\n",
        "\n",
        "  # elitisme \n",
        "  kromosom_anak = []\n",
        "  if (uk_pop % 2 == 0):\n",
        "    kromosom_anak.append(best_kromosom.copy())\n",
        "    kromosom_anak.append(best_kromosom.copy())\n",
        "    iterasi_mulai = 2\n",
        "  else:\n",
        "    kromosom_anak.append(best_kromosom.copy())\n",
        "    iterasi_mulai = 1\n",
        "  \n",
        "  # seleksi induk / orang tua\n",
        "  idx_induk = []\n",
        "  for i in range(iterasi_mulai, uk_pop):\n",
        "    idx_induk.append(roulette_wheel(kromosom, fitness))\n",
        "  # random.shuffle(idx_induk)\n",
        "\n",
        "  # crossover kromosom\n",
        "  jum_pasangan_induk = int(len(idx_induk) / 2)\n",
        "  for i in range(jum_pasangan_induk):\n",
        "    induk1 = kromosom[idx_induk[i]]\n",
        "    induk2 = kromosom[idx_induk[i + 1]]\n",
        "    acak = random.uniform(0,1)\n",
        "\n",
        "    if(acak <= pc):\n",
        "      anak1, anak2 = crossover_1_titik(induk1, induk2)\n",
        "      # anak1, anak2 = crossover_n_titik(induk1, induk2, jum_titik_potong = 2)\n",
        "      # anak1, anak2 = crossover_uniform(induk1, induk2)\n",
        "      kromosom_anak.append(anak1.copy())\n",
        "      kromosom_anak.append(anak2.copy())\n",
        "    else:\n",
        "      kromosom_anak.append(induk1.copy())\n",
        "      kromosom_anak.append(induk2.copy())\n",
        "    \n",
        "    i +=2\n",
        "  # mutasi kromosom (kromosom elit tidak dimutasi)\n",
        "  for i in range(iterasi_mulai, uk_pop):\n",
        "    kromosom_anak[i] = mutasi_biner(kromosom_anak[i])\n",
        "  \n",
        "  # generational replacement\n",
        "  kromosom = kromosom_anak.copy()\n",
        "\n",
        "  generasi +=1\n"
      ],
      "metadata": {
        "colab": {
          "base_uri": "https://localhost:8080/"
        },
        "id": "c3E2Qb5D_D00",
        "outputId": "7214adfc-9b04-4fba-eed6-4cde23a05195"
      },
      "id": "c3E2Qb5D_D00",
      "execution_count": null,
      "outputs": [
        {
          "output_type": "stream",
          "name": "stdout",
          "text": [
            "Generasi Ke-0 ==> [4, -2] = 142\n",
            "Generasi Ke-1 ==> [4, -2] = 142\n",
            "Generasi Ke-2 ==> [4, -2] = 142\n",
            "Generasi Ke-3 ==> [5, 0] = 150\n",
            "Generasi Ke-4 ==> [5, 0] = 150\n",
            "Generasi Ke-5 ==> [5, 0] = 150\n",
            "Generasi Ke-6 ==> [5, -1] = 155\n",
            "Generasi Ke-7 ==> [5, -1] = 155\n",
            "Generasi Ke-8 ==> [5, -1] = 155\n",
            "Generasi Ke-9 ==> [5, -1] = 155\n",
            "Generasi Ke-10 ==> [5, -1] = 155\n",
            "Generasi Ke-11 ==> [5, -1] = 155\n",
            "Generasi Ke-12 ==> [5, -1] = 155\n",
            "Generasi Ke-13 ==> [5, -1] = 155\n",
            "Generasi Ke-14 ==> [5, -1] = 155\n",
            "Generasi Ke-15 ==> [5, -1] = 155\n",
            "Generasi Ke-16 ==> [5, -1] = 155\n",
            "Generasi Ke-17 ==> [5, -1] = 155\n",
            "Generasi Ke-18 ==> [5, -1] = 155\n",
            "Generasi Ke-19 ==> [5, -1] = 155\n",
            "Generasi Ke-20 ==> [5, -1] = 155\n",
            "Generasi Ke-21 ==> [5, -1] = 155\n",
            "Generasi Ke-22 ==> [5, -3] = 165\n"
          ]
        }
      ]
    },
    {
      "cell_type": "markdown",
      "source": [
        "### hasil optimasi"
      ],
      "metadata": {
        "id": "NGhSx-3gW9QY"
      },
      "id": "NGhSx-3gW9QY"
    },
    {
      "cell_type": "code",
      "source": [
        "# tampilkan hasil optimasi\n",
        "print(\"Total Best = \" + str(best_genotipe) + \" = \" + str(best_fitness) + \" (\"+ str(idx_best_kromosom)+ \")\")\n",
        "print(\"Best Kromosom = \" + str(best_kromosom))\n",
        "plt.title(\"Grafik Evolusi Alogritma Genertika\")\n",
        "plt.plot(list_best_fitness)\n",
        "plt.show(block=False)\n",
        "# plt.waitforbuttonpress()"
      ],
      "metadata": {
        "colab": {
          "base_uri": "https://localhost:8080/",
          "height": 316
        },
        "id": "qSSdgUQGDnq8",
        "outputId": "807bf046-7ba2-4552-d423-7cf8460b5bb6"
      },
      "id": "qSSdgUQGDnq8",
      "execution_count": null,
      "outputs": [
        {
          "output_type": "stream",
          "name": "stdout",
          "text": [
            "Total Best = [5, -3] = 165 (3)\n",
            "Best Kromosom = [1.0, 1.0, 1.0, 1.0, 0.0, 0.0, 0.0, 0.0]\n"
          ]
        },
        {
          "output_type": "display_data",
          "data": {
            "text/plain": [
              "<Figure size 432x288 with 1 Axes>"
            ],
            "image/png": "[encoded data removed]"
          },
          "metadata": {
            "needs_background": "light"
          }
        }
      ]
    }
  ],
  "metadata": {
    "kernelspec": {
      "display_name": "Python 3",
      "language": "python",
      "name": "python3"
    },
    "language_info": {
      "codemirror_mode": {
        "name": "ipython",
        "version": 3
      },
      "file_extension": ".py",
      "mimetype": "text/x-python",
      "name": "python",
      "nbconvert_exporter": "python",
      "pygments_lexer": "ipython3",
      "version": "3.8.8"
    },
    "colab": {
      "provenance": [],
      "include_colab_link": true
    }
  },
  "nbformat": 4,
  "nbformat_minor": 5
}