{
  "nbformat": 4,
  "nbformat_minor": 0,
  "metadata": {
    "colab": {
      "provenance": [],
      "include_colab_link": true
    },
    "kernelspec": {
      "name": "python3",
      "display_name": "Python 3"
    },
    "language_info": {
      "name": "python"
    }
  },
  "cells": [
    {
      "cell_type": "markdown",
      "metadata": {
        "id": "view-in-github",
        "colab_type": "text"
      },
      "source": [
        "<a href=\"https://colab.research.google.com/github/riskydevandra/soft_computing_praktik/blob/main/nndl_m12_5200411476.ipynb\" target=\"_parent\"><img src=\"https://colab.research.google.com/assets/colab-badge.svg\" alt=\"Open In Colab\"/></a>"
      ]
    },
    {
      "cell_type": "markdown",
      "source": [
        "Nama : Risky Devandra H\n",
        "\n",
        "\n",
        "---\n",
        "\n",
        "\n",
        "Nim : 5200411476"
      ],
      "metadata": {
        "id": "sNKVLCbB3lNT"
      }
    },
    {
      "cell_type": "code",
      "execution_count": 53,
      "metadata": {
        "id": "PFIW7uON3fc9"
      },
      "outputs": [],
      "source": [
        "import numpy as np  \n",
        "import random \n",
        "import matplotlib.pyplot as plt"
      ]
    },
    {
      "cell_type": "code",
      "source": [
        "#Inisialisasi parameter Ga\n",
        "list_barang = [[5,20],[7,90],[3,50],[6,60],[1,100],\n",
        "               [9,30],[4,30],[4,30],[6,70],[4,50]]  #[berat prioristas]\n",
        "\n",
        "max_berat = 25 \n",
        "uk_pop = 50\n",
        "max_generasi = 100\n",
        "bts_bawah = 0 \n",
        "bts_atas = 15\n",
        "jum_var = len(list_barang)\n",
        "jum_gen_per_var = 1\n",
        "jum_gen = jum_var * jum_gen_per_var\n",
        "pc = 0.8\n",
        "pm = 1 / jum_gen\n",
        "best_kromosom = []\n",
        "best_fitness = 0\n",
        "best_genotipe = []\n",
        "list_best_fitness = []\n",
        "max_fitness = 999999\n"
      ],
      "metadata": {
        "id": "nE5BEMeo3w9y"
      },
      "execution_count": 54,
      "outputs": []
    },
    {
      "cell_type": "code",
      "source": [
        "#inisialisai populasi biner\n",
        "kromosom = np.round(np.random.rand(uk_pop, jum_gen))"
      ],
      "metadata": {
        "id": "WMOpH8qc3w7J"
      },
      "execution_count": 55,
      "outputs": []
    },
    {
      "cell_type": "code",
      "source": [
        "def hitung_fitness(x, list_barang, max_berat):\n",
        "  #hitung total barang \n",
        "  total_berat = 0\n",
        "  for i in range(len(x)):\n",
        "    total_berat = total_berat + (x[i] * list_barang[i][0])\n",
        "\n",
        "\n",
        "  #hitung fitness\n",
        "  fitness = 0\n",
        "  if (total_berat <= max_berat):\n",
        "    for i in range(len(x)) :\n",
        "      fitness = fitness + (x[i] * list_barang[i][1])\n",
        "\n",
        "\n",
        "      #fitness dikurangi jika ada space yang tidak terpakai\n",
        "\n",
        "      fitness = fitness - (max_berat - total_berat)\n",
        "\n",
        "  else:\n",
        "    fitness = 0\n",
        "\n",
        "  return fitness, total_berat"
      ],
      "metadata": {
        "id": "pQRGWxig3w4j"
      },
      "execution_count": 56,
      "outputs": []
    },
    {
      "cell_type": "code",
      "source": [
        "def linear_fitness_rangking(fitness):\n",
        "  sort_fitness = sorted(fitness)\n",
        "  max_fitness = sort_fitness[-1] #ambil elemen terakhir\n",
        "  min_fitness = sort_fitness[0]\n",
        "  LFR = []\n",
        "  for i in range(uk_pop):\n",
        "    LFR.append(max_fitness - (max_fitness - min_fitness) * ((i + 1)- 1) / (uk_pop -1))\n",
        "\n",
        "  return LFR\n"
      ],
      "metadata": {
        "id": "wTMe2XbI3w1x"
      },
      "execution_count": 57,
      "outputs": []
    },
    {
      "cell_type": "code",
      "source": [
        "def roulette_wheel(krom , fitness) :\n",
        "  #menskalakan nilai fitness dengan linear fitness rangkin \n",
        "  LFR = linear_fitness_rangking(fitness)\n",
        "\n",
        "  #membuat proporsi nilai fitness tiap kromosom \n",
        "  kumulatif_fitness = 0\n",
        "  acak = random.uniform(0, 1)\n",
        "  idx_induk = 0 \n",
        "  for i in range (uk_pop) :\n",
        "    kumulatif_fitness = kumulatif_fitness + (LFR[i] / sum(LFR))\n",
        "    if (kumulatif_fitness > acak):\n",
        "      idx_induk = i\n",
        "      break\n",
        "\n",
        "  return idx_induk\n"
      ],
      "metadata": {
        "id": "T14vzZxL3wzK"
      },
      "execution_count": 58,
      "outputs": []
    },
    {
      "cell_type": "code",
      "source": [
        "def crossover_1_titik(krom1, krom2):\n",
        "  #konversi arrat ke list agar bisa diconcate\n",
        "  krom1 = list (krom1)\n",
        "  krom2 = list (krom2)\n",
        "\n",
        "  #tentukan titik potong \n",
        "  titik = int(np.random.rand() * jum_gen + 1)\n",
        "\n",
        "  #tukar gen \n",
        "  anak1 = krom1[0:titik] + krom2[titik :]\n",
        "  anak2 = krom2[0:titik] + krom1[titik :]\n",
        "\n",
        "  return anak1, anak2\n"
      ],
      "metadata": {
        "id": "i2tLODaz3wwa"
      },
      "execution_count": 59,
      "outputs": []
    },
    {
      "cell_type": "code",
      "source": [
        "def crossover_n_titik(krom1 , krom2, jum_titik_potong =1) :\n",
        "  #konversi arrat ke list agar bisa diconcate\n",
        "  krom1 = list (krom1)\n",
        "  krom2 = list (krom2)\n",
        "\n",
        "  #tentukan titik potong \n",
        "  batas = 0\n",
        "  titik = []\n",
        "  pembagi = int(np.fix(jum_gen / jum_titik_potong))\n",
        "  for i in range(jum_titik_potong) :\n",
        "    acak = int(np.fix(np.random.rand() * pembagi+1))\n",
        "    batas =batas + acak\n",
        "    titik.append(batas)\n",
        "  titik.append(jum_gen)\n",
        "\n",
        "  #tukar gen\n",
        "  anak1 = []\n",
        "  anak2 = []\n",
        "\n",
        "  idx =0\n",
        "  for i in range(len(titik)) :\n",
        "    #tukar gen ketika i genap (agar pertukaran selang seling antara ganjil dan genap)\n",
        "\n",
        "    if (i % 2 == 0) : \n",
        "      anak1 = anak1 + krom2[idx:titik[i]]\n",
        "      anak2 = anak2 + krom1[idx:titik[i]]\n",
        "    else :\n",
        "      anak1 = anak1 + krom1[idx:titik[i]]\n",
        "      anak2 = anak2 + krom2[idx:titik[i]]\n",
        "    idx = titik[i]\n",
        "  return anak1, anak2\n"
      ],
      "metadata": {
        "id": "FGbO0v1g3wt5"
      },
      "execution_count": 60,
      "outputs": []
    },
    {
      "cell_type": "code",
      "source": [
        "def crossover_uniform(krom1, krom2):\n",
        "  pola = np.round(np.random.rand(jum_gen))\n",
        "  anak1 = krom1\n",
        "  anak2 = krom2\n",
        "\n",
        "  for i in range (jum_gen) :\n",
        "    if (pola[i] == 1):\n",
        "      #tukar gen\n",
        "      anak[1], anak2[i] = anak2[i] , anak1[i]\n",
        "\n",
        "  return anak1, anak2"
      ],
      "metadata": {
        "id": "Mow1rRiv3wrC"
      },
      "execution_count": 61,
      "outputs": []
    },
    {
      "cell_type": "code",
      "source": [
        "def mutasi_biner(krom):\n",
        "  acak = random.uniform(0,1)\n",
        "  for j in range (jum_gen) :\n",
        "    if (acak <= pm):\n",
        "      krom[j] = 1 - krom[j]\n",
        "  return krom"
      ],
      "metadata": {
        "id": "anjP_FcJ3woZ"
      },
      "execution_count": 62,
      "outputs": []
    },
    {
      "cell_type": "code",
      "source": [
        "#-----------------------\n",
        "#proses evolusi kromosom\n",
        "#______________________\n",
        "\n",
        "generasi = 0 \n",
        "while (generasi < max_generasi and best_fitness < max_fitness) :\n",
        "  # evaluasi fitness\n",
        "  fitness = []\n",
        "  for j in range(uk_pop):\n",
        "    fit, tot = hitung_fitness(kromosom[j], list_barang, max_berat)\n",
        "    fitness.append(fit)\n",
        "\n",
        "    if (best_fitness < fit):\n",
        "      best_fitness = fit\n",
        "      total_berat = tot\n",
        "      idx_best_kromosom = j\n",
        "      best_kromosom = kromosom[j].copy()\n",
        "      best_genotipe = best_kromosom.copy() # karena tidak ada dekode kromosom\n",
        "\n",
        "  #simpan best_fitness dari semua kromosom di tiap generasi\n",
        "  list_best_fitness.append(best_fitness)\n",
        "\n",
        "  #tampilkan informasi tiap generasi\n",
        "  print(\"Generasi ke - \" + str(generasi) + \" ==> \" + str(best_genotipe) + \" = \" + str(best_fitness) + \"(\" + str(total_berat) + \"kg)\")\n",
        "\n",
        "  #elitisme\n",
        "  kromosom_anak = []\n",
        "  if (uk_pop % 2 == 0) :\n",
        "    kromosom_anak.append(best_kromosom.copy())\n",
        "    kromosom_anak.append(best_kromosom.copy())\n",
        "\n",
        "  else :\n",
        "    kromsom_anak.append(best_kromosom.copy())\n",
        "  iterasi_seleksi = 1\n",
        "  #seleksi induk / orang tua\n",
        "  idx_induk = []\n",
        "  for i in range(iterasi_seleksi, uk_pop) :\n",
        "    idx_induk.append(roulette_wheel(kromosom, fitness))\n",
        "  random.shuffle(idx_induk)\n",
        "\n",
        "  #crossover kromosom\n",
        "  jum_pasangan_induk = int(len(idx_induk)/2)\n",
        "  for i in range (jum_pasangan_induk) :\n",
        "    induk1 = kromosom[idx_induk[i]].copy()\n",
        "    induk2 = kromosom[idx_induk[i+1]].copy()\n",
        "    acak = random.uniform(0 ,1)\n",
        "\n",
        "    if (acak <= pc):\n",
        "      anak1, anak2 = crossover_1_titik(induk1, induk2)\n",
        "      # anak1, anak2 = crossover_1_titik(induk1, induk2, jum_titik_potong=3)\n",
        "      #anak1, anak2 = crossover_uniform(induk1, induk2)\n",
        "\n",
        "      kromosom_anak.append(anak1.copy())\n",
        "      kromosom_anak.append(anak2.copy())\n",
        "\n",
        "    else :\n",
        "      kromosom_anak.append(anak1.copy())\n",
        "      kromosom_anak.append(anak2.copy())\n",
        "    i += 2\n",
        "\n",
        "  #mutasi kromosom (kromoosom elit tidak dimutasi)\n",
        "  for i in range(iterasi_seleksi, uk_pop) :\n",
        "    kromosom_anak[i] = mutasi_biner(kromosom_anak[i])\n",
        "\n",
        "  #generational replacement\n",
        "  kromosom = kromosom_anak.copy()\n",
        "\n",
        "  generasi += 1\n"
      ],
      "metadata": {
        "colab": {
          "base_uri": "https://localhost:8080/",
          "height": 0
        },
        "id": "YzhCYXgN3wmB",
        "outputId": "488c263e-46fb-4ae4-93a3-d93a514a74ae"
      },
      "execution_count": 63,
      "outputs": [
        {
          "output_type": "stream",
          "name": "stdout",
          "text": [
            "Generasi ke - 0 ==> [0. 1. 0. 1. 1. 0. 1. 0. 1. 0.] = 340.0(24.0kg)\n",
            "Generasi ke - 1 ==> [0.0, 1.0, 1.0, 1.0, 1.0, 0.0, 0.0, 0.0, 1.0, 0.0] = 350.0(23.0kg)\n",
            "Generasi ke - 2 ==> [0.0, 1.0, 1.0, 1.0, 1.0, 0.0, 0.0, 0.0, 1.0, 0.0] = 350.0(23.0kg)\n",
            "Generasi ke - 3 ==> [0.0, 1.0, 1.0, 1.0, 1.0, 0.0, 0.0, 0.0, 1.0, 0.0] = 350.0(23.0kg)\n",
            "Generasi ke - 4 ==> [0.0, 1.0, 1.0, 0.0, 1.0, 0.0, 0.0, 1.0, 1.0, 1.0] = 390.0(25.0kg)\n",
            "Generasi ke - 5 ==> [0.0, 1.0, 1.0, 0.0, 1.0, 0.0, 0.0, 1.0, 1.0, 1.0] = 390.0(25.0kg)\n",
            "Generasi ke - 6 ==> [0.0, 1.0, 1.0, 0.0, 1.0, 0.0, 0.0, 1.0, 1.0, 1.0] = 390.0(25.0kg)\n",
            "Generasi ke - 7 ==> [0.0, 1.0, 1.0, 0.0, 1.0, 0.0, 0.0, 1.0, 1.0, 1.0] = 390.0(25.0kg)\n",
            "Generasi ke - 8 ==> [0.0, 1.0, 1.0, 0.0, 1.0, 0.0, 0.0, 1.0, 1.0, 1.0] = 390.0(25.0kg)\n",
            "Generasi ke - 9 ==> [0.0, 1.0, 1.0, 0.0, 1.0, 0.0, 0.0, 1.0, 1.0, 1.0] = 390.0(25.0kg)\n",
            "Generasi ke - 10 ==> [0.0, 1.0, 1.0, 0.0, 1.0, 0.0, 0.0, 1.0, 1.0, 1.0] = 390.0(25.0kg)\n",
            "Generasi ke - 11 ==> [0.0, 1.0, 1.0, 0.0, 1.0, 0.0, 0.0, 1.0, 1.0, 1.0] = 390.0(25.0kg)\n",
            "Generasi ke - 12 ==> [0.0, 1.0, 1.0, 0.0, 1.0, 0.0, 0.0, 1.0, 1.0, 1.0] = 390.0(25.0kg)\n",
            "Generasi ke - 13 ==> [0.0, 1.0, 1.0, 0.0, 1.0, 0.0, 0.0, 1.0, 1.0, 1.0] = 390.0(25.0kg)\n",
            "Generasi ke - 14 ==> [0.0, 1.0, 1.0, 0.0, 1.0, 0.0, 0.0, 1.0, 1.0, 1.0] = 390.0(25.0kg)\n",
            "Generasi ke - 15 ==> [0.0, 1.0, 1.0, 0.0, 1.0, 0.0, 0.0, 1.0, 1.0, 1.0] = 390.0(25.0kg)\n",
            "Generasi ke - 16 ==> [0.0, 1.0, 1.0, 0.0, 1.0, 0.0, 0.0, 1.0, 1.0, 1.0] = 390.0(25.0kg)\n",
            "Generasi ke - 17 ==> [0.0, 1.0, 1.0, 0.0, 1.0, 0.0, 0.0, 1.0, 1.0, 1.0] = 390.0(25.0kg)\n",
            "Generasi ke - 18 ==> [0.0, 1.0, 1.0, 0.0, 1.0, 0.0, 0.0, 1.0, 1.0, 1.0] = 390.0(25.0kg)\n",
            "Generasi ke - 19 ==> [0.0, 1.0, 1.0, 0.0, 1.0, 0.0, 0.0, 1.0, 1.0, 1.0] = 390.0(25.0kg)\n",
            "Generasi ke - 20 ==> [0.0, 1.0, 1.0, 0.0, 1.0, 0.0, 0.0, 1.0, 1.0, 1.0] = 390.0(25.0kg)\n",
            "Generasi ke - 21 ==> [0.0, 1.0, 1.0, 0.0, 1.0, 0.0, 0.0, 1.0, 1.0, 1.0] = 390.0(25.0kg)\n",
            "Generasi ke - 22 ==> [0.0, 1.0, 1.0, 0.0, 1.0, 0.0, 0.0, 1.0, 1.0, 1.0] = 390.0(25.0kg)\n",
            "Generasi ke - 23 ==> [0.0, 1.0, 1.0, 0.0, 1.0, 0.0, 0.0, 1.0, 1.0, 1.0] = 390.0(25.0kg)\n",
            "Generasi ke - 24 ==> [0.0, 1.0, 1.0, 0.0, 1.0, 0.0, 0.0, 1.0, 1.0, 1.0] = 390.0(25.0kg)\n",
            "Generasi ke - 25 ==> [0.0, 1.0, 1.0, 0.0, 1.0, 0.0, 0.0, 1.0, 1.0, 1.0] = 390.0(25.0kg)\n",
            "Generasi ke - 26 ==> [0.0, 1.0, 1.0, 0.0, 1.0, 0.0, 0.0, 1.0, 1.0, 1.0] = 390.0(25.0kg)\n",
            "Generasi ke - 27 ==> [0.0, 1.0, 1.0, 0.0, 1.0, 0.0, 0.0, 1.0, 1.0, 1.0] = 390.0(25.0kg)\n",
            "Generasi ke - 28 ==> [0.0, 1.0, 1.0, 0.0, 1.0, 0.0, 0.0, 1.0, 1.0, 1.0] = 390.0(25.0kg)\n",
            "Generasi ke - 29 ==> [0.0, 1.0, 1.0, 0.0, 1.0, 0.0, 0.0, 1.0, 1.0, 1.0] = 390.0(25.0kg)\n",
            "Generasi ke - 30 ==> [0.0, 1.0, 1.0, 0.0, 1.0, 0.0, 0.0, 1.0, 1.0, 1.0] = 390.0(25.0kg)\n",
            "Generasi ke - 31 ==> [0.0, 1.0, 1.0, 0.0, 1.0, 0.0, 0.0, 1.0, 1.0, 1.0] = 390.0(25.0kg)\n",
            "Generasi ke - 32 ==> [0.0, 1.0, 1.0, 0.0, 1.0, 0.0, 0.0, 1.0, 1.0, 1.0] = 390.0(25.0kg)\n",
            "Generasi ke - 33 ==> [0.0, 1.0, 1.0, 0.0, 1.0, 0.0, 0.0, 1.0, 1.0, 1.0] = 390.0(25.0kg)\n",
            "Generasi ke - 34 ==> [0.0, 1.0, 1.0, 0.0, 1.0, 0.0, 0.0, 1.0, 1.0, 1.0] = 390.0(25.0kg)\n",
            "Generasi ke - 35 ==> [0.0, 1.0, 1.0, 0.0, 1.0, 0.0, 0.0, 1.0, 1.0, 1.0] = 390.0(25.0kg)\n",
            "Generasi ke - 36 ==> [0.0, 1.0, 1.0, 0.0, 1.0, 0.0, 0.0, 1.0, 1.0, 1.0] = 390.0(25.0kg)\n",
            "Generasi ke - 37 ==> [0.0, 1.0, 1.0, 0.0, 1.0, 0.0, 0.0, 1.0, 1.0, 1.0] = 390.0(25.0kg)\n",
            "Generasi ke - 38 ==> [0.0, 1.0, 1.0, 0.0, 1.0, 0.0, 0.0, 1.0, 1.0, 1.0] = 390.0(25.0kg)\n",
            "Generasi ke - 39 ==> [0.0, 1.0, 1.0, 0.0, 1.0, 0.0, 0.0, 1.0, 1.0, 1.0] = 390.0(25.0kg)\n",
            "Generasi ke - 40 ==> [0.0, 1.0, 1.0, 0.0, 1.0, 0.0, 0.0, 1.0, 1.0, 1.0] = 390.0(25.0kg)\n",
            "Generasi ke - 41 ==> [0.0, 1.0, 1.0, 0.0, 1.0, 0.0, 0.0, 1.0, 1.0, 1.0] = 390.0(25.0kg)\n",
            "Generasi ke - 42 ==> [0.0, 1.0, 1.0, 0.0, 1.0, 0.0, 0.0, 1.0, 1.0, 1.0] = 390.0(25.0kg)\n",
            "Generasi ke - 43 ==> [0.0, 1.0, 1.0, 0.0, 1.0, 0.0, 0.0, 1.0, 1.0, 1.0] = 390.0(25.0kg)\n",
            "Generasi ke - 44 ==> [0.0, 1.0, 1.0, 0.0, 1.0, 0.0, 0.0, 1.0, 1.0, 1.0] = 390.0(25.0kg)\n",
            "Generasi ke - 45 ==> [0.0, 1.0, 1.0, 0.0, 1.0, 0.0, 0.0, 1.0, 1.0, 1.0] = 390.0(25.0kg)\n",
            "Generasi ke - 46 ==> [0.0, 1.0, 1.0, 0.0, 1.0, 0.0, 0.0, 1.0, 1.0, 1.0] = 390.0(25.0kg)\n",
            "Generasi ke - 47 ==> [0.0, 1.0, 1.0, 0.0, 1.0, 0.0, 0.0, 1.0, 1.0, 1.0] = 390.0(25.0kg)\n",
            "Generasi ke - 48 ==> [0.0, 1.0, 1.0, 0.0, 1.0, 0.0, 0.0, 1.0, 1.0, 1.0] = 390.0(25.0kg)\n",
            "Generasi ke - 49 ==> [0.0, 1.0, 1.0, 0.0, 1.0, 0.0, 0.0, 1.0, 1.0, 1.0] = 390.0(25.0kg)\n",
            "Generasi ke - 50 ==> [0.0, 1.0, 1.0, 0.0, 1.0, 0.0, 0.0, 1.0, 1.0, 1.0] = 390.0(25.0kg)\n",
            "Generasi ke - 51 ==> [0.0, 1.0, 1.0, 0.0, 1.0, 0.0, 0.0, 1.0, 1.0, 1.0] = 390.0(25.0kg)\n",
            "Generasi ke - 52 ==> [0.0, 1.0, 1.0, 0.0, 1.0, 0.0, 0.0, 1.0, 1.0, 1.0] = 390.0(25.0kg)\n",
            "Generasi ke - 53 ==> [0.0, 1.0, 1.0, 0.0, 1.0, 0.0, 0.0, 1.0, 1.0, 1.0] = 390.0(25.0kg)\n",
            "Generasi ke - 54 ==> [0.0, 1.0, 1.0, 0.0, 1.0, 0.0, 0.0, 1.0, 1.0, 1.0] = 390.0(25.0kg)\n",
            "Generasi ke - 55 ==> [0.0, 1.0, 1.0, 0.0, 1.0, 0.0, 0.0, 1.0, 1.0, 1.0] = 390.0(25.0kg)\n",
            "Generasi ke - 56 ==> [0.0, 1.0, 1.0, 0.0, 1.0, 0.0, 0.0, 1.0, 1.0, 1.0] = 390.0(25.0kg)\n",
            "Generasi ke - 57 ==> [0.0, 1.0, 1.0, 0.0, 1.0, 0.0, 0.0, 1.0, 1.0, 1.0] = 390.0(25.0kg)\n",
            "Generasi ke - 58 ==> [0.0, 1.0, 1.0, 0.0, 1.0, 0.0, 0.0, 1.0, 1.0, 1.0] = 390.0(25.0kg)\n",
            "Generasi ke - 59 ==> [0.0, 1.0, 1.0, 0.0, 1.0, 0.0, 0.0, 1.0, 1.0, 1.0] = 390.0(25.0kg)\n",
            "Generasi ke - 60 ==> [0.0, 1.0, 1.0, 0.0, 1.0, 0.0, 0.0, 1.0, 1.0, 1.0] = 390.0(25.0kg)\n",
            "Generasi ke - 61 ==> [0.0, 1.0, 1.0, 0.0, 1.0, 0.0, 0.0, 1.0, 1.0, 1.0] = 390.0(25.0kg)\n",
            "Generasi ke - 62 ==> [0.0, 1.0, 1.0, 0.0, 1.0, 0.0, 0.0, 1.0, 1.0, 1.0] = 390.0(25.0kg)\n",
            "Generasi ke - 63 ==> [0.0, 1.0, 1.0, 0.0, 1.0, 0.0, 0.0, 1.0, 1.0, 1.0] = 390.0(25.0kg)\n",
            "Generasi ke - 64 ==> [0.0, 1.0, 1.0, 0.0, 1.0, 0.0, 0.0, 1.0, 1.0, 1.0] = 390.0(25.0kg)\n",
            "Generasi ke - 65 ==> [0.0, 1.0, 1.0, 0.0, 1.0, 0.0, 0.0, 1.0, 1.0, 1.0] = 390.0(25.0kg)\n",
            "Generasi ke - 66 ==> [0.0, 1.0, 1.0, 0.0, 1.0, 0.0, 0.0, 1.0, 1.0, 1.0] = 390.0(25.0kg)\n",
            "Generasi ke - 67 ==> [0.0, 1.0, 1.0, 0.0, 1.0, 0.0, 0.0, 1.0, 1.0, 1.0] = 390.0(25.0kg)\n",
            "Generasi ke - 68 ==> [0.0, 1.0, 1.0, 0.0, 1.0, 0.0, 0.0, 1.0, 1.0, 1.0] = 390.0(25.0kg)\n",
            "Generasi ke - 69 ==> [0.0, 1.0, 1.0, 0.0, 1.0, 0.0, 0.0, 1.0, 1.0, 1.0] = 390.0(25.0kg)\n",
            "Generasi ke - 70 ==> [0.0, 1.0, 1.0, 0.0, 1.0, 0.0, 0.0, 1.0, 1.0, 1.0] = 390.0(25.0kg)\n",
            "Generasi ke - 71 ==> [0.0, 1.0, 1.0, 0.0, 1.0, 0.0, 0.0, 1.0, 1.0, 1.0] = 390.0(25.0kg)\n",
            "Generasi ke - 72 ==> [0.0, 1.0, 1.0, 0.0, 1.0, 0.0, 0.0, 1.0, 1.0, 1.0] = 390.0(25.0kg)\n",
            "Generasi ke - 73 ==> [0.0, 1.0, 1.0, 0.0, 1.0, 0.0, 0.0, 1.0, 1.0, 1.0] = 390.0(25.0kg)\n",
            "Generasi ke - 74 ==> [0.0, 1.0, 1.0, 0.0, 1.0, 0.0, 0.0, 1.0, 1.0, 1.0] = 390.0(25.0kg)\n",
            "Generasi ke - 75 ==> [0.0, 1.0, 1.0, 0.0, 1.0, 0.0, 0.0, 1.0, 1.0, 1.0] = 390.0(25.0kg)\n",
            "Generasi ke - 76 ==> [0.0, 1.0, 1.0, 0.0, 1.0, 0.0, 0.0, 1.0, 1.0, 1.0] = 390.0(25.0kg)\n",
            "Generasi ke - 77 ==> [0.0, 1.0, 1.0, 0.0, 1.0, 0.0, 0.0, 1.0, 1.0, 1.0] = 390.0(25.0kg)\n",
            "Generasi ke - 78 ==> [0.0, 1.0, 1.0, 0.0, 1.0, 0.0, 0.0, 1.0, 1.0, 1.0] = 390.0(25.0kg)\n",
            "Generasi ke - 79 ==> [0.0, 1.0, 1.0, 0.0, 1.0, 0.0, 0.0, 1.0, 1.0, 1.0] = 390.0(25.0kg)\n",
            "Generasi ke - 80 ==> [0.0, 1.0, 1.0, 0.0, 1.0, 0.0, 0.0, 1.0, 1.0, 1.0] = 390.0(25.0kg)\n",
            "Generasi ke - 81 ==> [0.0, 1.0, 1.0, 0.0, 1.0, 0.0, 0.0, 1.0, 1.0, 1.0] = 390.0(25.0kg)\n",
            "Generasi ke - 82 ==> [0.0, 1.0, 1.0, 0.0, 1.0, 0.0, 0.0, 1.0, 1.0, 1.0] = 390.0(25.0kg)\n",
            "Generasi ke - 83 ==> [0.0, 1.0, 1.0, 0.0, 1.0, 0.0, 0.0, 1.0, 1.0, 1.0] = 390.0(25.0kg)\n",
            "Generasi ke - 84 ==> [0.0, 1.0, 1.0, 0.0, 1.0, 0.0, 0.0, 1.0, 1.0, 1.0] = 390.0(25.0kg)\n",
            "Generasi ke - 85 ==> [0.0, 1.0, 1.0, 0.0, 1.0, 0.0, 0.0, 1.0, 1.0, 1.0] = 390.0(25.0kg)\n",
            "Generasi ke - 86 ==> [0.0, 1.0, 1.0, 0.0, 1.0, 0.0, 0.0, 1.0, 1.0, 1.0] = 390.0(25.0kg)\n",
            "Generasi ke - 87 ==> [0.0, 1.0, 1.0, 0.0, 1.0, 0.0, 0.0, 1.0, 1.0, 1.0] = 390.0(25.0kg)\n",
            "Generasi ke - 88 ==> [0.0, 1.0, 1.0, 0.0, 1.0, 0.0, 0.0, 1.0, 1.0, 1.0] = 390.0(25.0kg)\n",
            "Generasi ke - 89 ==> [0.0, 1.0, 1.0, 0.0, 1.0, 0.0, 0.0, 1.0, 1.0, 1.0] = 390.0(25.0kg)\n",
            "Generasi ke - 90 ==> [0.0, 1.0, 1.0, 0.0, 1.0, 0.0, 0.0, 1.0, 1.0, 1.0] = 390.0(25.0kg)\n",
            "Generasi ke - 91 ==> [0.0, 1.0, 1.0, 0.0, 1.0, 0.0, 0.0, 1.0, 1.0, 1.0] = 390.0(25.0kg)\n",
            "Generasi ke - 92 ==> [0.0, 1.0, 1.0, 0.0, 1.0, 0.0, 0.0, 1.0, 1.0, 1.0] = 390.0(25.0kg)\n",
            "Generasi ke - 93 ==> [0.0, 1.0, 1.0, 0.0, 1.0, 0.0, 0.0, 1.0, 1.0, 1.0] = 390.0(25.0kg)\n",
            "Generasi ke - 94 ==> [0.0, 1.0, 1.0, 0.0, 1.0, 0.0, 0.0, 1.0, 1.0, 1.0] = 390.0(25.0kg)\n",
            "Generasi ke - 95 ==> [0.0, 1.0, 1.0, 0.0, 1.0, 0.0, 0.0, 1.0, 1.0, 1.0] = 390.0(25.0kg)\n",
            "Generasi ke - 96 ==> [0.0, 1.0, 1.0, 0.0, 1.0, 0.0, 0.0, 1.0, 1.0, 1.0] = 390.0(25.0kg)\n",
            "Generasi ke - 97 ==> [0.0, 1.0, 1.0, 0.0, 1.0, 0.0, 0.0, 1.0, 1.0, 1.0] = 390.0(25.0kg)\n",
            "Generasi ke - 98 ==> [0.0, 1.0, 1.0, 0.0, 1.0, 0.0, 0.0, 1.0, 1.0, 1.0] = 390.0(25.0kg)\n",
            "Generasi ke - 99 ==> [0.0, 1.0, 1.0, 0.0, 1.0, 0.0, 0.0, 1.0, 1.0, 1.0] = 390.0(25.0kg)\n"
          ]
        }
      ]
    },
    {
      "cell_type": "code",
      "source": [
        "#tampilkan hasil optimasi\n",
        "print(str(best_genotipe) + \"=\" + str(best_fitness) + \"(\" + str(idx_best_kromosom) +\")\" + \"(\" + str(total_berat) + \"kg\")\n",
        "print(\"Best Kromosom =\" + str(best_kromosom))\n",
        "plt.title(\"Grafik evolusi algorimta genetika\")\n",
        "plt.plot(list_best_fitness)\n",
        "plt.show(block=False)\n",
        "\n"
      ],
      "metadata": {
        "colab": {
          "base_uri": "https://localhost:8080/",
          "height": 316
        },
        "id": "TNjr-DHi3wjZ",
        "outputId": "1b8712c4-d889-4c10-cb05-28e6db0cf1d8"
      },
      "execution_count": 65,
      "outputs": [
        {
          "output_type": "stream",
          "name": "stdout",
          "text": [
            "[0.0, 1.0, 1.0, 0.0, 1.0, 0.0, 0.0, 1.0, 1.0, 1.0]=390.0(7)(25.0kg\n",
            "Best Kromosom =[0.0, 1.0, 1.0, 0.0, 1.0, 0.0, 0.0, 1.0, 1.0, 1.0]\n"
          ]
        },
        {
          "output_type": "display_data",
          "data": {
            "text/plain": [
              "<Figure size 432x288 with 1 Axes>"
            ],
            "image/png": "[encoded data removed]"
          },
          "metadata": {
            "needs_background": "light"
          }
        }
      ]
    },
    {
      "cell_type": "code",
      "source": [],
      "metadata": {
        "id": "FgXwb8pKE6zV"
      },
      "execution_count": 64,
      "outputs": []
    }
  ]
}