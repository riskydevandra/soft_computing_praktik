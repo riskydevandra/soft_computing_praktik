{
  "nbformat": 4,
  "nbformat_minor": 0,
  "metadata": {
    "colab": {
      "provenance": [],
      "collapsed_sections": [
        "E_spTEx-VTIU",
        "EwfNdaE3WW2P",
        "6I0oG957Nuiu"
      ],
      "include_colab_link": true
    },
    "kernelspec": {
      "name": "python3",
      "display_name": "Python 3"
    },
    "language_info": {
      "name": "python"
    }
  },
  "cells": [
    {
      "cell_type": "markdown",
      "metadata": {
        "id": "view-in-github",
        "colab_type": "text"
      },
      "source": [
        "<a href=\"https://colab.research.google.com/github/riskydevandra/soft_computing_praktik/blob/main/m10_nndl_k_saintdata.ipynb\" target=\"_parent\"><img src=\"https://colab.research.google.com/assets/colab-badge.svg\" alt=\"Open In Colab\"/></a>"
      ]
    },
    {
      "cell_type": "markdown",
      "source": [
        "##Import Data"
      ],
      "metadata": {
        "id": "2jNtLh2CVGCd"
      }
    },
    {
      "cell_type": "code",
      "source": [
        "import pandas as pd"
      ],
      "metadata": {
        "id": "Aaye2AR-5yRW"
      },
      "execution_count": null,
      "outputs": []
    },
    {
      "cell_type": "code",
      "source": [
        "ionosphere = pd.read_csv('/content/drive/MyDrive/Colab Notebooks/Perceptron/Dataset/ionosphere.data', header=None)"
      ],
      "metadata": {
        "id": "laK9DRazNObC"
      },
      "execution_count": null,
      "outputs": []
    },
    {
      "cell_type": "markdown",
      "source": [
        "## Ganti Nama Atribut"
      ],
      "metadata": {
        "id": "kjpQetQsVDKf"
      }
    },
    {
      "cell_type": "code",
      "source": [
        "ionosphere.columns"
      ],
      "metadata": {
        "colab": {
          "base_uri": "https://localhost:8080/"
        },
        "id": "v0t5PG5RU60K",
        "outputId": "02605461-2d95-4fe1-e749-b7155be4ed45"
      },
      "execution_count": null,
      "outputs": [
        {
          "output_type": "execute_result",
          "data": {
            "text/plain": [
              "Int64Index([ 0,  1,  2,  3,  4,  5,  6,  7,  8,  9, 10, 11, 12, 13, 14, 15, 16,\n",
              "            17, 18, 19, 20, 21, 22, 23, 24, 25, 26, 27, 28, 29, 30, 31, 32, 33,\n",
              "            34],\n",
              "           dtype='int64')"
            ]
          },
          "metadata": {},
          "execution_count": 3
        }
      ]
    },
    {
      "cell_type": "code",
      "source": [
        "ionosphere.columns = [ 0,  1,  2,  3,  4,  5,  6,  7,  8,  9,\n",
        "                      10, 11, 12, 13, 14, 15, 16, 17, 18, 19,\n",
        "                      20, 21, 22, 23, 24, 25, 26, 27, 28, 29,\n",
        "                      30, 31, 32, 33, 'Class']"
      ],
      "metadata": {
        "id": "EuRgCph3N3aG"
      },
      "execution_count": null,
      "outputs": []
    },
    {
      "cell_type": "markdown",
      "source": [
        "## Exploratory & Data Preprocessing"
      ],
      "metadata": {
        "id": "W3PyjgFKVKMm"
      }
    },
    {
      "cell_type": "code",
      "source": [
        "ionosphere.info()"
      ],
      "metadata": {
        "colab": {
          "base_uri": "https://localhost:8080/"
        },
        "id": "c3jwFAdHIbKg",
        "outputId": "65b98912-20f7-4eb9-dd4c-3176f433193a"
      },
      "execution_count": null,
      "outputs": [
        {
          "output_type": "stream",
          "name": "stdout",
          "text": [
            "<class 'pandas.core.frame.DataFrame'>\n",
            "RangeIndex: 351 entries, 0 to 350\n",
            "Data columns (total 35 columns):\n",
            " #   Column  Non-Null Count  Dtype  \n",
            "---  ------  --------------  -----  \n",
            " 0   0       351 non-null    int64  \n",
            " 1   1       351 non-null    int64  \n",
            " 2   2       351 non-null    float64\n",
            " 3   3       351 non-null    float64\n",
            " 4   4       351 non-null    float64\n",
            " 5   5       351 non-null    float64\n",
            " 6   6       351 non-null    float64\n",
            " 7   7       351 non-null    float64\n",
            " 8   8       351 non-null    float64\n",
            " 9   9       351 non-null    float64\n",
            " 10  10      351 non-null    float64\n",
            " 11  11      351 non-null    float64\n",
            " 12  12      351 non-null    float64\n",
            " 13  13      351 non-null    float64\n",
            " 14  14      351 non-null    float64\n",
            " 15  15      351 non-null    float64\n",
            " 16  16      351 non-null    float64\n",
            " 17  17      351 non-null    float64\n",
            " 18  18      351 non-null    float64\n",
            " 19  19      351 non-null    float64\n",
            " 20  20      351 non-null    float64\n",
            " 21  21      351 non-null    float64\n",
            " 22  22      351 non-null    float64\n",
            " 23  23      351 non-null    float64\n",
            " 24  24      351 non-null    float64\n",
            " 25  25      351 non-null    float64\n",
            " 26  26      351 non-null    float64\n",
            " 27  27      351 non-null    float64\n",
            " 28  28      351 non-null    float64\n",
            " 29  29      351 non-null    float64\n",
            " 30  30      351 non-null    float64\n",
            " 31  31      351 non-null    float64\n",
            " 32  32      351 non-null    float64\n",
            " 33  33      351 non-null    float64\n",
            " 34  Class   351 non-null    object \n",
            "dtypes: float64(32), int64(2), object(1)\n",
            "memory usage: 96.1+ KB\n"
          ]
        }
      ]
    },
    {
      "cell_type": "code",
      "source": [
        "print(f'Jumlah data duplikat: {ionosphere.duplicated().sum()}')"
      ],
      "metadata": {
        "colab": {
          "base_uri": "https://localhost:8080/"
        },
        "id": "yIleONAtN_pZ",
        "outputId": "b48822e3-5a5c-4e23-ab7b-1c14c1aa45bf"
      },
      "execution_count": null,
      "outputs": [
        {
          "output_type": "stream",
          "name": "stdout",
          "text": [
            "Jumlah data duplikat: 0\n"
          ]
        }
      ]
    },
    {
      "cell_type": "code",
      "source": [
        "ionosphere = ionosphere.drop_duplicates()"
      ],
      "metadata": {
        "id": "pPzwdQOTm2XB"
      },
      "execution_count": null,
      "outputs": []
    },
    {
      "cell_type": "code",
      "source": [
        "ionosphere.iloc[:5,:18]"
      ],
      "metadata": {
        "colab": {
          "base_uri": "https://localhost:8080/",
          "height": 206
        },
        "id": "LGBOHh2Hkj_y",
        "outputId": "ea515d9e-ab54-4748-db7c-2474d8753818"
      },
      "execution_count": null,
      "outputs": [
        {
          "output_type": "execute_result",
          "data": {
            "text/plain": [
              "   0  1        2        3        4        5        6        7        8  \\\n",
              "0  1  0  0.99539 -0.05889  0.85243  0.02306  0.83398 -0.37708  1.00000   \n",
              "1  1  0  1.00000 -0.18829  0.93035 -0.36156 -0.10868 -0.93597  1.00000   \n",
              "2  1  0  1.00000 -0.03365  1.00000  0.00485  1.00000 -0.12062  0.88965   \n",
              "3  1  0  1.00000 -0.45161  1.00000  1.00000  0.71216 -1.00000  0.00000   \n",
              "4  1  0  1.00000 -0.02401  0.94140  0.06531  0.92106 -0.23255  0.77152   \n",
              "\n",
              "         9       10       11       12       13       14       15       16  \\\n",
              "0  0.03760  0.85243 -0.17755  0.59755 -0.44945  0.60536 -0.38223  0.84356   \n",
              "1 -0.04549  0.50874 -0.67743  0.34432 -0.69707 -0.51685 -0.97515  0.05499   \n",
              "2  0.01198  0.73082  0.05346  0.85443  0.00827  0.54591  0.00299  0.83775   \n",
              "3  0.00000  0.00000  0.00000  0.00000  0.00000 -1.00000  0.14516  0.54094   \n",
              "4 -0.16399  0.52798 -0.20275  0.56409 -0.00712  0.34395 -0.27457  0.52940   \n",
              "\n",
              "        17  \n",
              "0 -0.38542  \n",
              "1 -0.62237  \n",
              "2 -0.13644  \n",
              "3 -0.39330  \n",
              "4 -0.21780  "
            ],
            "text/html": [
              "\n",
              "  <div id=\"df-c4f23aeb-8516-444c-976c-7e3cee91b028\">\n",
              "    <div class=\"colab-df-container\">\n",
              "      <div>\n",
              "<style scoped>\n",
              "    .dataframe tbody tr th:only-of-type {\n",
              "        vertical-align: middle;\n",
              "    }\n",
              "\n",
              "    .dataframe tbody tr th {\n",
              "        vertical-align: top;\n",
              "    }\n",
              "\n",
              "    .dataframe thead th {\n",
              "        text-align: right;\n",
              "    }\n",
              "</style>\n",
              "<table border=\"1\" class=\"dataframe\">\n",
              "  <thead>\n",
              "    <tr style=\"text-align: right;\">\n",
              "      <th></th>\n",
              "      <th>0</th>\n",
              "      <th>1</th>\n",
              "      <th>2</th>\n",
              "      <th>3</th>\n",
              "      <th>4</th>\n",
              "      <th>5</th>\n",
              "      <th>6</th>\n",
              "      <th>7</th>\n",
              "      <th>8</th>\n",
              "      <th>9</th>\n",
              "      <th>10</th>\n",
              "      <th>11</th>\n",
              "      <th>12</th>\n",
              "      <th>13</th>\n",
              "      <th>14</th>\n",
              "      <th>15</th>\n",
              "      <th>16</th>\n",
              "      <th>17</th>\n",
              "    </tr>\n",
              "  </thead>\n",
              "  <tbody>\n",
              "    <tr>\n",
              "      <th>0</th>\n",
              "      <td>1</td>\n",
              "      <td>0</td>\n",
              "      <td>0.99539</td>\n",
              "      <td>-0.05889</td>\n",
              "      <td>0.85243</td>\n",
              "      <td>0.02306</td>\n",
              "      <td>0.83398</td>\n",
              "      <td>-0.37708</td>\n",
              "      <td>1.00000</td>\n",
              "      <td>0.03760</td>\n",
              "      <td>0.85243</td>\n",
              "      <td>-0.17755</td>\n",
              "      <td>0.59755</td>\n",
              "      <td>-0.44945</td>\n",
              "      <td>0.60536</td>\n",
              "      <td>-0.38223</td>\n",
              "      <td>0.84356</td>\n",
              "      <td>-0.38542</td>\n",
              "    </tr>\n",
              "    <tr>\n",
              "      <th>1</th>\n",
              "      <td>1</td>\n",
              "      <td>0</td>\n",
              "      <td>1.00000</td>\n",
              "      <td>-0.18829</td>\n",
              "      <td>0.93035</td>\n",
              "      <td>-0.36156</td>\n",
              "      <td>-0.10868</td>\n",
              "      <td>-0.93597</td>\n",
              "      <td>1.00000</td>\n",
              "      <td>-0.04549</td>\n",
              "      <td>0.50874</td>\n",
              "      <td>-0.67743</td>\n",
              "      <td>0.34432</td>\n",
              "      <td>-0.69707</td>\n",
              "      <td>-0.51685</td>\n",
              "      <td>-0.97515</td>\n",
              "      <td>0.05499</td>\n",
              "      <td>-0.62237</td>\n",
              "    </tr>\n",
              "    <tr>\n",
              "      <th>2</th>\n",
              "      <td>1</td>\n",
              "      <td>0</td>\n",
              "      <td>1.00000</td>\n",
              "      <td>-0.03365</td>\n",
              "      <td>1.00000</td>\n",
              "      <td>0.00485</td>\n",
              "      <td>1.00000</td>\n",
              "      <td>-0.12062</td>\n",
              "      <td>0.88965</td>\n",
              "      <td>0.01198</td>\n",
              "      <td>0.73082</td>\n",
              "      <td>0.05346</td>\n",
              "      <td>0.85443</td>\n",
              "      <td>0.00827</td>\n",
              "      <td>0.54591</td>\n",
              "      <td>0.00299</td>\n",
              "      <td>0.83775</td>\n",
              "      <td>-0.13644</td>\n",
              "    </tr>\n",
              "    <tr>\n",
              "      <th>3</th>\n",
              "      <td>1</td>\n",
              "      <td>0</td>\n",
              "      <td>1.00000</td>\n",
              "      <td>-0.45161</td>\n",
              "      <td>1.00000</td>\n",
              "      <td>1.00000</td>\n",
              "      <td>0.71216</td>\n",
              "      <td>-1.00000</td>\n",
              "      <td>0.00000</td>\n",
              "      <td>0.00000</td>\n",
              "      <td>0.00000</td>\n",
              "      <td>0.00000</td>\n",
              "      <td>0.00000</td>\n",
              "      <td>0.00000</td>\n",
              "      <td>-1.00000</td>\n",
              "      <td>0.14516</td>\n",
              "      <td>0.54094</td>\n",
              "      <td>-0.39330</td>\n",
              "    </tr>\n",
              "    <tr>\n",
              "      <th>4</th>\n",
              "      <td>1</td>\n",
              "      <td>0</td>\n",
              "      <td>1.00000</td>\n",
              "      <td>-0.02401</td>\n",
              "      <td>0.94140</td>\n",
              "      <td>0.06531</td>\n",
              "      <td>0.92106</td>\n",
              "      <td>-0.23255</td>\n",
              "      <td>0.77152</td>\n",
              "      <td>-0.16399</td>\n",
              "      <td>0.52798</td>\n",
              "      <td>-0.20275</td>\n",
              "      <td>0.56409</td>\n",
              "      <td>-0.00712</td>\n",
              "      <td>0.34395</td>\n",
              "      <td>-0.27457</td>\n",
              "      <td>0.52940</td>\n",
              "      <td>-0.21780</td>\n",
              "    </tr>\n",
              "  </tbody>\n",
              "</table>\n",
              "</div>\n",
              "      <button class=\"colab-df-convert\" onclick=\"convertToInteractive('df-c4f23aeb-8516-444c-976c-7e3cee91b028')\"\n",
              "              title=\"Convert this dataframe to an interactive table.\"\n",
              "              style=\"display:none;\">\n",
              "        \n",
              "  <svg xmlns=\"http://www.w3.org/2000/svg\" height=\"24px\"viewBox=\"0 0 24 24\"\n",
              "       width=\"24px\">\n",
              "    <path d=\"M0 0h24v24H0V0z\" fill=\"none\"/>\n",
              "    <path d=\"M18.56 5.44l.94 2.06.94-2.06 2.06-.94-2.06-.94-.94-2.06-.94 2.06-2.06.94zm-11 1L8.5 8.5l.94-2.06 2.06-.94-2.06-.94L8.5 2.5l-.94 2.06-2.06.94zm10 10l.94 2.06.94-2.06 2.06-.94-2.06-.94-.94-2.06-.94 2.06-2.06.94z\"/><path d=\"M17.41 7.96l-1.37-1.37c-.4-.4-.92-.59-1.43-.59-.52 0-1.04.2-1.43.59L10.3 9.45l-7.72 7.72c-.78.78-.78 2.05 0 2.83L4 21.41c.39.39.9.59 1.41.59.51 0 1.02-.2 1.41-.59l7.78-7.78 2.81-2.81c.8-.78.8-2.07 0-2.86zM5.41 20L4 18.59l7.72-7.72 1.47 1.35L5.41 20z\"/>\n",
              "  </svg>\n",
              "      </button>\n",
              "      \n",
              "  <style>\n",
              "    .colab-df-container {\n",
              "      display:flex;\n",
              "      flex-wrap:wrap;\n",
              "      gap: 12px;\n",
              "    }\n",
              "\n",
              "    .colab-df-convert {\n",
              "      background-color: #E8F0FE;\n",
              "      border: none;\n",
              "      border-radius: 50%;\n",
              "      cursor: pointer;\n",
              "      display: none;\n",
              "      fill: #1967D2;\n",
              "      height: 32px;\n",
              "      padding: 0 0 0 0;\n",
              "      width: 32px;\n",
              "    }\n",
              "\n",
              "    .colab-df-convert:hover {\n",
              "      background-color: #E2EBFA;\n",
              "      box-shadow: 0px 1px 2px rgba(60, 64, 67, 0.3), 0px 1px 3px 1px rgba(60, 64, 67, 0.15);\n",
              "      fill: #174EA6;\n",
              "    }\n",
              "\n",
              "    [theme=dark] .colab-df-convert {\n",
              "      background-color: #3B4455;\n",
              "      fill: #D2E3FC;\n",
              "    }\n",
              "\n",
              "    [theme=dark] .colab-df-convert:hover {\n",
              "      background-color: #434B5C;\n",
              "      box-shadow: 0px 1px 3px 1px rgba(0, 0, 0, 0.15);\n",
              "      filter: drop-shadow(0px 1px 2px rgba(0, 0, 0, 0.3));\n",
              "      fill: #FFFFFF;\n",
              "    }\n",
              "  </style>\n",
              "\n",
              "      <script>\n",
              "        const buttonEl =\n",
              "          document.querySelector('#df-c4f23aeb-8516-444c-976c-7e3cee91b028 button.colab-df-convert');\n",
              "        buttonEl.style.display =\n",
              "          google.colab.kernel.accessAllowed ? 'block' : 'none';\n",
              "\n",
              "        async function convertToInteractive(key) {\n",
              "          const element = document.querySelector('#df-c4f23aeb-8516-444c-976c-7e3cee91b028');\n",
              "          const dataTable =\n",
              "            await google.colab.kernel.invokeFunction('convertToInteractive',\n",
              "                                                     [key], {});\n",
              "          if (!dataTable) return;\n",
              "\n",
              "          const docLinkHtml = 'Like what you see? Visit the ' +\n",
              "            '<a target=\"_blank\" href=https://colab.research.google.com/notebooks/data_table.ipynb>data table notebook</a>'\n",
              "            + ' to learn more about interactive tables.';\n",
              "          element.innerHTML = '';\n",
              "          dataTable['output_type'] = 'display_data';\n",
              "          await google.colab.output.renderOutput(dataTable, element);\n",
              "          const docLink = document.createElement('div');\n",
              "          docLink.innerHTML = docLinkHtml;\n",
              "          element.appendChild(docLink);\n",
              "        }\n",
              "      </script>\n",
              "    </div>\n",
              "  </div>\n",
              "  "
            ]
          },
          "metadata": {},
          "execution_count": 9
        }
      ]
    },
    {
      "cell_type": "code",
      "source": [
        "ionosphere.iloc[:,:18].describe()"
      ],
      "metadata": {
        "colab": {
          "base_uri": "https://localhost:8080/",
          "height": 364
        },
        "id": "qYrobrYKRiHn",
        "outputId": "eada7cfd-dba3-4643-f15b-c28f2dd6a3e3"
      },
      "execution_count": null,
      "outputs": [
        {
          "output_type": "execute_result",
          "data": {
            "text/plain": [
              "                0      1           2           3           4           5  \\\n",
              "count  350.000000  350.0  350.000000  350.000000  350.000000  350.000000   \n",
              "mean     0.894286    0.0    0.643174    0.044499    0.602785    0.116220   \n",
              "std      0.307912    0.0    0.497234    0.442060    0.519608    0.461428   \n",
              "min      0.000000    0.0   -1.000000   -1.000000   -1.000000   -1.000000   \n",
              "25%      1.000000    0.0    0.473448   -0.065388    0.415473   -0.024868   \n",
              "50%      1.000000    0.0    0.873445    0.016700    0.811145    0.022930   \n",
              "75%      1.000000    0.0    1.000000    0.194727    1.000000    0.335317   \n",
              "max      1.000000    0.0    1.000000    1.000000    1.000000    1.000000   \n",
              "\n",
              "                6           7           8           9          10          11  \\\n",
              "count  350.000000  350.000000  350.000000  350.000000  350.000000  350.000000   \n",
              "mean     0.551667    0.119701    0.513311    0.181864    0.477543    0.155483   \n",
              "std      0.492477    0.521456    0.507050    0.484446    0.563725    0.495456   \n",
              "min     -1.000000   -1.000000   -1.000000   -1.000000   -1.000000   -1.000000   \n",
              "25%      0.219745   -0.055235    0.093298   -0.049003    0.027873   -0.065677   \n",
              "50%      0.729315    0.015085    0.686450    0.020665    0.670560    0.029750   \n",
              "75%      0.970445    0.451572    0.954185    0.536192    0.958157    0.483613   \n",
              "max      1.000000    1.000000    1.000000    1.000000    1.000000    1.000000   \n",
              "\n",
              "               12          13          14          15          16          17  \n",
              "count  350.000000  350.000000  350.000000  350.000000  350.000000  350.000000  \n",
              "mean     0.401946    0.093681    0.345142    0.071336    0.383040   -0.003627  \n",
              "std      0.622706    0.495556    0.653502    0.459011    0.618566    0.497473  \n",
              "min     -1.000000   -1.000000   -1.000000   -1.000000   -1.000000   -1.000000  \n",
              "25%      0.000000   -0.074152    0.000000   -0.082973    0.000000   -0.226480  \n",
              "50%      0.645660    0.030500    0.603650    0.000000    0.593375    0.000000  \n",
              "75%      0.956078    0.375625    0.919475    0.311682    0.936168    0.195467  \n",
              "max      1.000000    1.000000    1.000000    1.000000    1.000000    1.000000  "
            ],
            "text/html": [
              "\n",
              "  <div id=\"df-0be53ccd-c046-455e-87c5-e35457843e33\">\n",
              "    <div class=\"colab-df-container\">\n",
              "      <div>\n",
              "<style scoped>\n",
              "    .dataframe tbody tr th:only-of-type {\n",
              "        vertical-align: middle;\n",
              "    }\n",
              "\n",
              "    .dataframe tbody tr th {\n",
              "        vertical-align: top;\n",
              "    }\n",
              "\n",
              "    .dataframe thead th {\n",
              "        text-align: right;\n",
              "    }\n",
              "</style>\n",
              "<table border=\"1\" class=\"dataframe\">\n",
              "  <thead>\n",
              "    <tr style=\"text-align: right;\">\n",
              "      <th></th>\n",
              "      <th>0</th>\n",
              "      <th>1</th>\n",
              "      <th>2</th>\n",
              "      <th>3</th>\n",
              "      <th>4</th>\n",
              "      <th>5</th>\n",
              "      <th>6</th>\n",
              "      <th>7</th>\n",
              "      <th>8</th>\n",
              "      <th>9</th>\n",
              "      <th>10</th>\n",
              "      <th>11</th>\n",
              "      <th>12</th>\n",
              "      <th>13</th>\n",
              "      <th>14</th>\n",
              "      <th>15</th>\n",
              "      <th>16</th>\n",
              "      <th>17</th>\n",
              "    </tr>\n",
              "  </thead>\n",
              "  <tbody>\n",
              "    <tr>\n",
              "      <th>count</th>\n",
              "      <td>350.000000</td>\n",
              "      <td>350.0</td>\n",
              "      <td>350.000000</td>\n",
              "      <td>350.000000</td>\n",
              "      <td>350.000000</td>\n",
              "      <td>350.000000</td>\n",
              "      <td>350.000000</td>\n",
              "      <td>350.000000</td>\n",
              "      <td>350.000000</td>\n",
              "      <td>350.000000</td>\n",
              "      <td>350.000000</td>\n",
              "      <td>350.000000</td>\n",
              "      <td>350.000000</td>\n",
              "      <td>350.000000</td>\n",
              "      <td>350.000000</td>\n",
              "      <td>350.000000</td>\n",
              "      <td>350.000000</td>\n",
              "      <td>350.000000</td>\n",
              "    </tr>\n",
              "    <tr>\n",
              "      <th>mean</th>\n",
              "      <td>0.894286</td>\n",
              "      <td>0.0</td>\n",
              "      <td>0.643174</td>\n",
              "      <td>0.044499</td>\n",
              "      <td>0.602785</td>\n",
              "      <td>0.116220</td>\n",
              "      <td>0.551667</td>\n",
              "      <td>0.119701</td>\n",
              "      <td>0.513311</td>\n",
              "      <td>0.181864</td>\n",
              "      <td>0.477543</td>\n",
              "      <td>0.155483</td>\n",
              "      <td>0.401946</td>\n",
              "      <td>0.093681</td>\n",
              "      <td>0.345142</td>\n",
              "      <td>0.071336</td>\n",
              "      <td>0.383040</td>\n",
              "      <td>-0.003627</td>\n",
              "    </tr>\n",
              "    <tr>\n",
              "      <th>std</th>\n",
              "      <td>0.307912</td>\n",
              "      <td>0.0</td>\n",
              "      <td>0.497234</td>\n",
              "      <td>0.442060</td>\n",
              "      <td>0.519608</td>\n",
              "      <td>0.461428</td>\n",
              "      <td>0.492477</td>\n",
              "      <td>0.521456</td>\n",
              "      <td>0.507050</td>\n",
              "      <td>0.484446</td>\n",
              "      <td>0.563725</td>\n",
              "      <td>0.495456</td>\n",
              "      <td>0.622706</td>\n",
              "      <td>0.495556</td>\n",
              "      <td>0.653502</td>\n",
              "      <td>0.459011</td>\n",
              "      <td>0.618566</td>\n",
              "      <td>0.497473</td>\n",
              "    </tr>\n",
              "    <tr>\n",
              "      <th>min</th>\n",
              "      <td>0.000000</td>\n",
              "      <td>0.0</td>\n",
              "      <td>-1.000000</td>\n",
              "      <td>-1.000000</td>\n",
              "      <td>-1.000000</td>\n",
              "      <td>-1.000000</td>\n",
              "      <td>-1.000000</td>\n",
              "      <td>-1.000000</td>\n",
              "      <td>-1.000000</td>\n",
              "      <td>-1.000000</td>\n",
              "      <td>-1.000000</td>\n",
              "      <td>-1.000000</td>\n",
              "      <td>-1.000000</td>\n",
              "      <td>-1.000000</td>\n",
              "      <td>-1.000000</td>\n",
              "      <td>-1.000000</td>\n",
              "      <td>-1.000000</td>\n",
              "      <td>-1.000000</td>\n",
              "    </tr>\n",
              "    <tr>\n",
              "      <th>25%</th>\n",
              "      <td>1.000000</td>\n",
              "      <td>0.0</td>\n",
              "      <td>0.473448</td>\n",
              "      <td>-0.065388</td>\n",
              "      <td>0.415473</td>\n",
              "      <td>-0.024868</td>\n",
              "      <td>0.219745</td>\n",
              "      <td>-0.055235</td>\n",
              "      <td>0.093298</td>\n",
              "      <td>-0.049003</td>\n",
              "      <td>0.027873</td>\n",
              "      <td>-0.065677</td>\n",
              "      <td>0.000000</td>\n",
              "      <td>-0.074152</td>\n",
              "      <td>0.000000</td>\n",
              "      <td>-0.082973</td>\n",
              "      <td>0.000000</td>\n",
              "      <td>-0.226480</td>\n",
              "    </tr>\n",
              "    <tr>\n",
              "      <th>50%</th>\n",
              "      <td>1.000000</td>\n",
              "      <td>0.0</td>\n",
              "      <td>0.873445</td>\n",
              "      <td>0.016700</td>\n",
              "      <td>0.811145</td>\n",
              "      <td>0.022930</td>\n",
              "      <td>0.729315</td>\n",
              "      <td>0.015085</td>\n",
              "      <td>0.686450</td>\n",
              "      <td>0.020665</td>\n",
              "      <td>0.670560</td>\n",
              "      <td>0.029750</td>\n",
              "      <td>0.645660</td>\n",
              "      <td>0.030500</td>\n",
              "      <td>0.603650</td>\n",
              "      <td>0.000000</td>\n",
              "      <td>0.593375</td>\n",
              "      <td>0.000000</td>\n",
              "    </tr>\n",
              "    <tr>\n",
              "      <th>75%</th>\n",
              "      <td>1.000000</td>\n",
              "      <td>0.0</td>\n",
              "      <td>1.000000</td>\n",
              "      <td>0.194727</td>\n",
              "      <td>1.000000</td>\n",
              "      <td>0.335317</td>\n",
              "      <td>0.970445</td>\n",
              "      <td>0.451572</td>\n",
              "      <td>0.954185</td>\n",
              "      <td>0.536192</td>\n",
              "      <td>0.958157</td>\n",
              "      <td>0.483613</td>\n",
              "      <td>0.956078</td>\n",
              "      <td>0.375625</td>\n",
              "      <td>0.919475</td>\n",
              "      <td>0.311682</td>\n",
              "      <td>0.936168</td>\n",
              "      <td>0.195467</td>\n",
              "    </tr>\n",
              "    <tr>\n",
              "      <th>max</th>\n",
              "      <td>1.000000</td>\n",
              "      <td>0.0</td>\n",
              "      <td>1.000000</td>\n",
              "      <td>1.000000</td>\n",
              "      <td>1.000000</td>\n",
              "      <td>1.000000</td>\n",
              "      <td>1.000000</td>\n",
              "      <td>1.000000</td>\n",
              "      <td>1.000000</td>\n",
              "      <td>1.000000</td>\n",
              "      <td>1.000000</td>\n",
              "      <td>1.000000</td>\n",
              "      <td>1.000000</td>\n",
              "      <td>1.000000</td>\n",
              "      <td>1.000000</td>\n",
              "      <td>1.000000</td>\n",
              "      <td>1.000000</td>\n",
              "      <td>1.000000</td>\n",
              "    </tr>\n",
              "  </tbody>\n",
              "</table>\n",
              "</div>\n",
              "      <button class=\"colab-df-convert\" onclick=\"convertToInteractive('df-0be53ccd-c046-455e-87c5-e35457843e33')\"\n",
              "              title=\"Convert this dataframe to an interactive table.\"\n",
              "              style=\"display:none;\">\n",
              "        \n",
              "  <svg xmlns=\"http://www.w3.org/2000/svg\" height=\"24px\"viewBox=\"0 0 24 24\"\n",
              "       width=\"24px\">\n",
              "    <path d=\"M0 0h24v24H0V0z\" fill=\"none\"/>\n",
              "    <path d=\"M18.56 5.44l.94 2.06.94-2.06 2.06-.94-2.06-.94-.94-2.06-.94 2.06-2.06.94zm-11 1L8.5 8.5l.94-2.06 2.06-.94-2.06-.94L8.5 2.5l-.94 2.06-2.06.94zm10 10l.94 2.06.94-2.06 2.06-.94-2.06-.94-.94-2.06-.94 2.06-2.06.94z\"/><path d=\"M17.41 7.96l-1.37-1.37c-.4-.4-.92-.59-1.43-.59-.52 0-1.04.2-1.43.59L10.3 9.45l-7.72 7.72c-.78.78-.78 2.05 0 2.83L4 21.41c.39.39.9.59 1.41.59.51 0 1.02-.2 1.41-.59l7.78-7.78 2.81-2.81c.8-.78.8-2.07 0-2.86zM5.41 20L4 18.59l7.72-7.72 1.47 1.35L5.41 20z\"/>\n",
              "  </svg>\n",
              "      </button>\n",
              "      \n",
              "  <style>\n",
              "    .colab-df-container {\n",
              "      display:flex;\n",
              "      flex-wrap:wrap;\n",
              "      gap: 12px;\n",
              "    }\n",
              "\n",
              "    .colab-df-convert {\n",
              "      background-color: #E8F0FE;\n",
              "      border: none;\n",
              "      border-radius: 50%;\n",
              "      cursor: pointer;\n",
              "      display: none;\n",
              "      fill: #1967D2;\n",
              "      height: 32px;\n",
              "      padding: 0 0 0 0;\n",
              "      width: 32px;\n",
              "    }\n",
              "\n",
              "    .colab-df-convert:hover {\n",
              "      background-color: #E2EBFA;\n",
              "      box-shadow: 0px 1px 2px rgba(60, 64, 67, 0.3), 0px 1px 3px 1px rgba(60, 64, 67, 0.15);\n",
              "      fill: #174EA6;\n",
              "    }\n",
              "\n",
              "    [theme=dark] .colab-df-convert {\n",
              "      background-color: #3B4455;\n",
              "      fill: #D2E3FC;\n",
              "    }\n",
              "\n",
              "    [theme=dark] .colab-df-convert:hover {\n",
              "      background-color: #434B5C;\n",
              "      box-shadow: 0px 1px 3px 1px rgba(0, 0, 0, 0.15);\n",
              "      filter: drop-shadow(0px 1px 2px rgba(0, 0, 0, 0.3));\n",
              "      fill: #FFFFFF;\n",
              "    }\n",
              "  </style>\n",
              "\n",
              "      <script>\n",
              "        const buttonEl =\n",
              "          document.querySelector('#df-0be53ccd-c046-455e-87c5-e35457843e33 button.colab-df-convert');\n",
              "        buttonEl.style.display =\n",
              "          google.colab.kernel.accessAllowed ? 'block' : 'none';\n",
              "\n",
              "        async function convertToInteractive(key) {\n",
              "          const element = document.querySelector('#df-0be53ccd-c046-455e-87c5-e35457843e33');\n",
              "          const dataTable =\n",
              "            await google.colab.kernel.invokeFunction('convertToInteractive',\n",
              "                                                     [key], {});\n",
              "          if (!dataTable) return;\n",
              "\n",
              "          const docLinkHtml = 'Like what you see? Visit the ' +\n",
              "            '<a target=\"_blank\" href=https://colab.research.google.com/notebooks/data_table.ipynb>data table notebook</a>'\n",
              "            + ' to learn more about interactive tables.';\n",
              "          element.innerHTML = '';\n",
              "          dataTable['output_type'] = 'display_data';\n",
              "          await google.colab.output.renderOutput(dataTable, element);\n",
              "          const docLink = document.createElement('div');\n",
              "          docLink.innerHTML = docLinkHtml;\n",
              "          element.appendChild(docLink);\n",
              "        }\n",
              "      </script>\n",
              "    </div>\n",
              "  </div>\n",
              "  "
            ]
          },
          "metadata": {},
          "execution_count": 10
        }
      ]
    },
    {
      "cell_type": "code",
      "source": [
        "ionosphere.iloc[:5,18:]"
      ],
      "metadata": {
        "colab": {
          "base_uri": "https://localhost:8080/",
          "height": 206
        },
        "id": "ybGmNpvAk9U9",
        "outputId": "394d2064-bb5f-494a-9b7c-71affe0ce5e6"
      },
      "execution_count": null,
      "outputs": [
        {
          "output_type": "execute_result",
          "data": {
            "text/plain": [
              "        18       19       20       21       22       23       24       25  \\\n",
              "0  0.58212 -0.32192  0.56971 -0.29674  0.36946 -0.47357  0.56811 -0.51171   \n",
              "1  0.33109 -1.00000 -0.13151 -0.45300 -0.18056 -0.35734 -0.20332 -0.26569   \n",
              "2  0.75535 -0.08540  0.70887 -0.27502  0.43385 -0.12062  0.57528 -0.40220   \n",
              "3 -1.00000 -0.54467 -0.69975  1.00000  0.00000  0.00000  1.00000  0.90695   \n",
              "4  0.45107 -0.17813  0.05982 -0.35575  0.02309 -0.52879  0.03286 -0.65158   \n",
              "\n",
              "        26       27       28       29       30       31       32       33  \\\n",
              "0  0.41078 -0.46168  0.21266 -0.34090  0.42267 -0.54487  0.18641 -0.45300   \n",
              "1 -0.20468 -0.18401 -0.19040 -0.11593 -0.16626 -0.06288 -0.13738 -0.02447   \n",
              "2  0.58984 -0.22145  0.43100 -0.17365  0.60436 -0.24180  0.56045 -0.38238   \n",
              "3  0.51613  1.00000  1.00000 -0.20099  0.25682  1.00000 -0.32382  1.00000   \n",
              "4  0.13290 -0.53206  0.02431 -0.62197 -0.05707 -0.59573 -0.04608 -0.65697   \n",
              "\n",
              "  Class  \n",
              "0     g  \n",
              "1     b  \n",
              "2     g  \n",
              "3     b  \n",
              "4     g  "
            ],
            "text/html": [
              "\n",
              "  <div id=\"df-7e263c4f-3925-46d5-a230-0a84b9242e90\">\n",
              "    <div class=\"colab-df-container\">\n",
              "      <div>\n",
              "<style scoped>\n",
              "    .dataframe tbody tr th:only-of-type {\n",
              "        vertical-align: middle;\n",
              "    }\n",
              "\n",
              "    .dataframe tbody tr th {\n",
              "        vertical-align: top;\n",
              "    }\n",
              "\n",
              "    .dataframe thead th {\n",
              "        text-align: right;\n",
              "    }\n",
              "</style>\n",
              "<table border=\"1\" class=\"dataframe\">\n",
              "  <thead>\n",
              "    <tr style=\"text-align: right;\">\n",
              "      <th></th>\n",
              "      <th>18</th>\n",
              "      <th>19</th>\n",
              "      <th>20</th>\n",
              "      <th>21</th>\n",
              "      <th>22</th>\n",
              "      <th>23</th>\n",
              "      <th>24</th>\n",
              "      <th>25</th>\n",
              "      <th>26</th>\n",
              "      <th>27</th>\n",
              "      <th>28</th>\n",
              "      <th>29</th>\n",
              "      <th>30</th>\n",
              "      <th>31</th>\n",
              "      <th>32</th>\n",
              "      <th>33</th>\n",
              "      <th>Class</th>\n",
              "    </tr>\n",
              "  </thead>\n",
              "  <tbody>\n",
              "    <tr>\n",
              "      <th>0</th>\n",
              "      <td>0.58212</td>\n",
              "      <td>-0.32192</td>\n",
              "      <td>0.56971</td>\n",
              "      <td>-0.29674</td>\n",
              "      <td>0.36946</td>\n",
              "      <td>-0.47357</td>\n",
              "      <td>0.56811</td>\n",
              "      <td>-0.51171</td>\n",
              "      <td>0.41078</td>\n",
              "      <td>-0.46168</td>\n",
              "      <td>0.21266</td>\n",
              "      <td>-0.34090</td>\n",
              "      <td>0.42267</td>\n",
              "      <td>-0.54487</td>\n",
              "      <td>0.18641</td>\n",
              "      <td>-0.45300</td>\n",
              "      <td>g</td>\n",
              "    </tr>\n",
              "    <tr>\n",
              "      <th>1</th>\n",
              "      <td>0.33109</td>\n",
              "      <td>-1.00000</td>\n",
              "      <td>-0.13151</td>\n",
              "      <td>-0.45300</td>\n",
              "      <td>-0.18056</td>\n",
              "      <td>-0.35734</td>\n",
              "      <td>-0.20332</td>\n",
              "      <td>-0.26569</td>\n",
              "      <td>-0.20468</td>\n",
              "      <td>-0.18401</td>\n",
              "      <td>-0.19040</td>\n",
              "      <td>-0.11593</td>\n",
              "      <td>-0.16626</td>\n",
              "      <td>-0.06288</td>\n",
              "      <td>-0.13738</td>\n",
              "      <td>-0.02447</td>\n",
              "      <td>b</td>\n",
              "    </tr>\n",
              "    <tr>\n",
              "      <th>2</th>\n",
              "      <td>0.75535</td>\n",
              "      <td>-0.08540</td>\n",
              "      <td>0.70887</td>\n",
              "      <td>-0.27502</td>\n",
              "      <td>0.43385</td>\n",
              "      <td>-0.12062</td>\n",
              "      <td>0.57528</td>\n",
              "      <td>-0.40220</td>\n",
              "      <td>0.58984</td>\n",
              "      <td>-0.22145</td>\n",
              "      <td>0.43100</td>\n",
              "      <td>-0.17365</td>\n",
              "      <td>0.60436</td>\n",
              "      <td>-0.24180</td>\n",
              "      <td>0.56045</td>\n",
              "      <td>-0.38238</td>\n",
              "      <td>g</td>\n",
              "    </tr>\n",
              "    <tr>\n",
              "      <th>3</th>\n",
              "      <td>-1.00000</td>\n",
              "      <td>-0.54467</td>\n",
              "      <td>-0.69975</td>\n",
              "      <td>1.00000</td>\n",
              "      <td>0.00000</td>\n",
              "      <td>0.00000</td>\n",
              "      <td>1.00000</td>\n",
              "      <td>0.90695</td>\n",
              "      <td>0.51613</td>\n",
              "      <td>1.00000</td>\n",
              "      <td>1.00000</td>\n",
              "      <td>-0.20099</td>\n",
              "      <td>0.25682</td>\n",
              "      <td>1.00000</td>\n",
              "      <td>-0.32382</td>\n",
              "      <td>1.00000</td>\n",
              "      <td>b</td>\n",
              "    </tr>\n",
              "    <tr>\n",
              "      <th>4</th>\n",
              "      <td>0.45107</td>\n",
              "      <td>-0.17813</td>\n",
              "      <td>0.05982</td>\n",
              "      <td>-0.35575</td>\n",
              "      <td>0.02309</td>\n",
              "      <td>-0.52879</td>\n",
              "      <td>0.03286</td>\n",
              "      <td>-0.65158</td>\n",
              "      <td>0.13290</td>\n",
              "      <td>-0.53206</td>\n",
              "      <td>0.02431</td>\n",
              "      <td>-0.62197</td>\n",
              "      <td>-0.05707</td>\n",
              "      <td>-0.59573</td>\n",
              "      <td>-0.04608</td>\n",
              "      <td>-0.65697</td>\n",
              "      <td>g</td>\n",
              "    </tr>\n",
              "  </tbody>\n",
              "</table>\n",
              "</div>\n",
              "      <button class=\"colab-df-convert\" onclick=\"convertToInteractive('df-7e263c4f-3925-46d5-a230-0a84b9242e90')\"\n",
              "              title=\"Convert this dataframe to an interactive table.\"\n",
              "              style=\"display:none;\">\n",
              "        \n",
              "  <svg xmlns=\"http://www.w3.org/2000/svg\" height=\"24px\"viewBox=\"0 0 24 24\"\n",
              "       width=\"24px\">\n",
              "    <path d=\"M0 0h24v24H0V0z\" fill=\"none\"/>\n",
              "    <path d=\"M18.56 5.44l.94 2.06.94-2.06 2.06-.94-2.06-.94-.94-2.06-.94 2.06-2.06.94zm-11 1L8.5 8.5l.94-2.06 2.06-.94-2.06-.94L8.5 2.5l-.94 2.06-2.06.94zm10 10l.94 2.06.94-2.06 2.06-.94-2.06-.94-.94-2.06-.94 2.06-2.06.94z\"/><path d=\"M17.41 7.96l-1.37-1.37c-.4-.4-.92-.59-1.43-.59-.52 0-1.04.2-1.43.59L10.3 9.45l-7.72 7.72c-.78.78-.78 2.05 0 2.83L4 21.41c.39.39.9.59 1.41.59.51 0 1.02-.2 1.41-.59l7.78-7.78 2.81-2.81c.8-.78.8-2.07 0-2.86zM5.41 20L4 18.59l7.72-7.72 1.47 1.35L5.41 20z\"/>\n",
              "  </svg>\n",
              "      </button>\n",
              "      \n",
              "  <style>\n",
              "    .colab-df-container {\n",
              "      display:flex;\n",
              "      flex-wrap:wrap;\n",
              "      gap: 12px;\n",
              "    }\n",
              "\n",
              "    .colab-df-convert {\n",
              "      background-color: #E8F0FE;\n",
              "      border: none;\n",
              "      border-radius: 50%;\n",
              "      cursor: pointer;\n",
              "      display: none;\n",
              "      fill: #1967D2;\n",
              "      height: 32px;\n",
              "      padding: 0 0 0 0;\n",
              "      width: 32px;\n",
              "    }\n",
              "\n",
              "    .colab-df-convert:hover {\n",
              "      background-color: #E2EBFA;\n",
              "      box-shadow: 0px 1px 2px rgba(60, 64, 67, 0.3), 0px 1px 3px 1px rgba(60, 64, 67, 0.15);\n",
              "      fill: #174EA6;\n",
              "    }\n",
              "\n",
              "    [theme=dark] .colab-df-convert {\n",
              "      background-color: #3B4455;\n",
              "      fill: #D2E3FC;\n",
              "    }\n",
              "\n",
              "    [theme=dark] .colab-df-convert:hover {\n",
              "      background-color: #434B5C;\n",
              "      box-shadow: 0px 1px 3px 1px rgba(0, 0, 0, 0.15);\n",
              "      filter: drop-shadow(0px 1px 2px rgba(0, 0, 0, 0.3));\n",
              "      fill: #FFFFFF;\n",
              "    }\n",
              "  </style>\n",
              "\n",
              "      <script>\n",
              "        const buttonEl =\n",
              "          document.querySelector('#df-7e263c4f-3925-46d5-a230-0a84b9242e90 button.colab-df-convert');\n",
              "        buttonEl.style.display =\n",
              "          google.colab.kernel.accessAllowed ? 'block' : 'none';\n",
              "\n",
              "        async function convertToInteractive(key) {\n",
              "          const element = document.querySelector('#df-7e263c4f-3925-46d5-a230-0a84b9242e90');\n",
              "          const dataTable =\n",
              "            await google.colab.kernel.invokeFunction('convertToInteractive',\n",
              "                                                     [key], {});\n",
              "          if (!dataTable) return;\n",
              "\n",
              "          const docLinkHtml = 'Like what you see? Visit the ' +\n",
              "            '<a target=\"_blank\" href=https://colab.research.google.com/notebooks/data_table.ipynb>data table notebook</a>'\n",
              "            + ' to learn more about interactive tables.';\n",
              "          element.innerHTML = '';\n",
              "          dataTable['output_type'] = 'display_data';\n",
              "          await google.colab.output.renderOutput(dataTable, element);\n",
              "          const docLink = document.createElement('div');\n",
              "          docLink.innerHTML = docLinkHtml;\n",
              "          element.appendChild(docLink);\n",
              "        }\n",
              "      </script>\n",
              "    </div>\n",
              "  </div>\n",
              "  "
            ]
          },
          "metadata": {},
          "execution_count": 80
        }
      ]
    },
    {
      "cell_type": "code",
      "source": [
        "ionosphere.iloc[:,18:].describe()"
      ],
      "metadata": {
        "colab": {
          "base_uri": "https://localhost:8080/",
          "height": 364
        },
        "id": "QcEGxUlsRtaz",
        "outputId": "1cb66971-208e-4ebb-b4d8-6022dc621843"
      },
      "execution_count": null,
      "outputs": [
        {
          "output_type": "execute_result",
          "data": {
            "text/plain": [
              "               18          19          20          21          22          23  \\\n",
              "count  350.000000  350.000000  350.000000  350.000000  350.000000  350.000000   \n",
              "mean     0.360416   -0.024093    0.337657    0.008320    0.363511   -0.057570   \n",
              "std      0.626867    0.519818    0.610435    0.518908    0.604320    0.528202   \n",
              "min     -1.000000   -1.000000   -1.000000   -1.000000   -1.000000   -1.000000   \n",
              "25%      0.000000   -0.237420    0.000000   -0.246935    0.000000   -0.371657   \n",
              "50%      0.579155    0.000000    0.501865    0.000000    0.532110    0.000000   \n",
              "75%      0.900317    0.136720    0.896813    0.188820    0.912933    0.164895   \n",
              "max      1.000000    1.000000    1.000000    1.000000    1.000000    1.000000   \n",
              "\n",
              "               24          25          26          27          28          29  \\\n",
              "count  350.000000  350.000000  350.000000  350.000000  350.000000  350.000000   \n",
              "mean     0.397266   -0.071390    0.540331   -0.066879    0.379526   -0.027987   \n",
              "std      0.578890    0.509208    0.516359    0.548550    0.576353    0.508699   \n",
              "min     -1.000000   -1.000000   -1.000000   -1.000000   -1.000000   -1.000000   \n",
              "25%      0.000000   -0.332860    0.283612   -0.428992    0.000000   -0.237083   \n",
              "50%      0.555330   -0.015200    0.703345   -0.017685    0.499215    0.000000   \n",
              "75%      0.907165    0.157922    0.999522    0.154862    0.884572    0.154218   \n",
              "max      1.000000    1.000000    1.000000    1.000000    1.000000    1.000000   \n",
              "\n",
              "               30          31          32          33  \n",
              "count  350.000000  350.000000  350.000000  350.000000  \n",
              "mean     0.353521   -0.003805    0.350362    0.014521  \n",
              "std      0.571989    0.514310    0.523076    0.469007  \n",
              "min     -1.000000   -1.000000   -1.000000   -1.000000  \n",
              "25%      0.000000   -0.242993    0.000000   -0.166810  \n",
              "50%      0.446875    0.000000    0.413115    0.000000  \n",
              "75%      0.859490    0.200935    0.816778    0.172105  \n",
              "max      1.000000    1.000000    1.000000    1.000000  "
            ],
            "text/html": [
              "\n",
              "  <div id=\"df-6ce999ee-db01-4ef5-b51d-7f605ce94c6f\">\n",
              "    <div class=\"colab-df-container\">\n",
              "      <div>\n",
              "<style scoped>\n",
              "    .dataframe tbody tr th:only-of-type {\n",
              "        vertical-align: middle;\n",
              "    }\n",
              "\n",
              "    .dataframe tbody tr th {\n",
              "        vertical-align: top;\n",
              "    }\n",
              "\n",
              "    .dataframe thead th {\n",
              "        text-align: right;\n",
              "    }\n",
              "</style>\n",
              "<table border=\"1\" class=\"dataframe\">\n",
              "  <thead>\n",
              "    <tr style=\"text-align: right;\">\n",
              "      <th></th>\n",
              "      <th>18</th>\n",
              "      <th>19</th>\n",
              "      <th>20</th>\n",
              "      <th>21</th>\n",
              "      <th>22</th>\n",
              "      <th>23</th>\n",
              "      <th>24</th>\n",
              "      <th>25</th>\n",
              "      <th>26</th>\n",
              "      <th>27</th>\n",
              "      <th>28</th>\n",
              "      <th>29</th>\n",
              "      <th>30</th>\n",
              "      <th>31</th>\n",
              "      <th>32</th>\n",
              "      <th>33</th>\n",
              "    </tr>\n",
              "  </thead>\n",
              "  <tbody>\n",
              "    <tr>\n",
              "      <th>count</th>\n",
              "      <td>350.000000</td>\n",
              "      <td>350.000000</td>\n",
              "      <td>350.000000</td>\n",
              "      <td>350.000000</td>\n",
              "      <td>350.000000</td>\n",
              "      <td>350.000000</td>\n",
              "      <td>350.000000</td>\n",
              "      <td>350.000000</td>\n",
              "      <td>350.000000</td>\n",
              "      <td>350.000000</td>\n",
              "      <td>350.000000</td>\n",
              "      <td>350.000000</td>\n",
              "      <td>350.000000</td>\n",
              "      <td>350.000000</td>\n",
              "      <td>350.000000</td>\n",
              "      <td>350.000000</td>\n",
              "    </tr>\n",
              "    <tr>\n",
              "      <th>mean</th>\n",
              "      <td>0.360416</td>\n",
              "      <td>-0.024093</td>\n",
              "      <td>0.337657</td>\n",
              "      <td>0.008320</td>\n",
              "      <td>0.363511</td>\n",
              "      <td>-0.057570</td>\n",
              "      <td>0.397266</td>\n",
              "      <td>-0.071390</td>\n",
              "      <td>0.540331</td>\n",
              "      <td>-0.066879</td>\n",
              "      <td>0.379526</td>\n",
              "      <td>-0.027987</td>\n",
              "      <td>0.353521</td>\n",
              "      <td>-0.003805</td>\n",
              "      <td>0.350362</td>\n",
              "      <td>0.014521</td>\n",
              "    </tr>\n",
              "    <tr>\n",
              "      <th>std</th>\n",
              "      <td>0.626867</td>\n",
              "      <td>0.519818</td>\n",
              "      <td>0.610435</td>\n",
              "      <td>0.518908</td>\n",
              "      <td>0.604320</td>\n",
              "      <td>0.528202</td>\n",
              "      <td>0.578890</td>\n",
              "      <td>0.509208</td>\n",
              "      <td>0.516359</td>\n",
              "      <td>0.548550</td>\n",
              "      <td>0.576353</td>\n",
              "      <td>0.508699</td>\n",
              "      <td>0.571989</td>\n",
              "      <td>0.514310</td>\n",
              "      <td>0.523076</td>\n",
              "      <td>0.469007</td>\n",
              "    </tr>\n",
              "    <tr>\n",
              "      <th>min</th>\n",
              "      <td>-1.000000</td>\n",
              "      <td>-1.000000</td>\n",
              "      <td>-1.000000</td>\n",
              "      <td>-1.000000</td>\n",
              "      <td>-1.000000</td>\n",
              "      <td>-1.000000</td>\n",
              "      <td>-1.000000</td>\n",
              "      <td>-1.000000</td>\n",
              "      <td>-1.000000</td>\n",
              "      <td>-1.000000</td>\n",
              "      <td>-1.000000</td>\n",
              "      <td>-1.000000</td>\n",
              "      <td>-1.000000</td>\n",
              "      <td>-1.000000</td>\n",
              "      <td>-1.000000</td>\n",
              "      <td>-1.000000</td>\n",
              "    </tr>\n",
              "    <tr>\n",
              "      <th>25%</th>\n",
              "      <td>0.000000</td>\n",
              "      <td>-0.237420</td>\n",
              "      <td>0.000000</td>\n",
              "      <td>-0.246935</td>\n",
              "      <td>0.000000</td>\n",
              "      <td>-0.371657</td>\n",
              "      <td>0.000000</td>\n",
              "      <td>-0.332860</td>\n",
              "      <td>0.283612</td>\n",
              "      <td>-0.428992</td>\n",
              "      <td>0.000000</td>\n",
              "      <td>-0.237083</td>\n",
              "      <td>0.000000</td>\n",
              "      <td>-0.242993</td>\n",
              "      <td>0.000000</td>\n",
              "      <td>-0.166810</td>\n",
              "    </tr>\n",
              "    <tr>\n",
              "      <th>50%</th>\n",
              "      <td>0.579155</td>\n",
              "      <td>0.000000</td>\n",
              "      <td>0.501865</td>\n",
              "      <td>0.000000</td>\n",
              "      <td>0.532110</td>\n",
              "      <td>0.000000</td>\n",
              "      <td>0.555330</td>\n",
              "      <td>-0.015200</td>\n",
              "      <td>0.703345</td>\n",
              "      <td>-0.017685</td>\n",
              "      <td>0.499215</td>\n",
              "      <td>0.000000</td>\n",
              "      <td>0.446875</td>\n",
              "      <td>0.000000</td>\n",
              "      <td>0.413115</td>\n",
              "      <td>0.000000</td>\n",
              "    </tr>\n",
              "    <tr>\n",
              "      <th>75%</th>\n",
              "      <td>0.900317</td>\n",
              "      <td>0.136720</td>\n",
              "      <td>0.896813</td>\n",
              "      <td>0.188820</td>\n",
              "      <td>0.912933</td>\n",
              "      <td>0.164895</td>\n",
              "      <td>0.907165</td>\n",
              "      <td>0.157922</td>\n",
              "      <td>0.999522</td>\n",
              "      <td>0.154862</td>\n",
              "      <td>0.884572</td>\n",
              "      <td>0.154218</td>\n",
              "      <td>0.859490</td>\n",
              "      <td>0.200935</td>\n",
              "      <td>0.816778</td>\n",
              "      <td>0.172105</td>\n",
              "    </tr>\n",
              "    <tr>\n",
              "      <th>max</th>\n",
              "      <td>1.000000</td>\n",
              "      <td>1.000000</td>\n",
              "      <td>1.000000</td>\n",
              "      <td>1.000000</td>\n",
              "      <td>1.000000</td>\n",
              "      <td>1.000000</td>\n",
              "      <td>1.000000</td>\n",
              "      <td>1.000000</td>\n",
              "      <td>1.000000</td>\n",
              "      <td>1.000000</td>\n",
              "      <td>1.000000</td>\n",
              "      <td>1.000000</td>\n",
              "      <td>1.000000</td>\n",
              "      <td>1.000000</td>\n",
              "      <td>1.000000</td>\n",
              "      <td>1.000000</td>\n",
              "    </tr>\n",
              "  </tbody>\n",
              "</table>\n",
              "</div>\n",
              "      <button class=\"colab-df-convert\" onclick=\"convertToInteractive('df-6ce999ee-db01-4ef5-b51d-7f605ce94c6f')\"\n",
              "              title=\"Convert this dataframe to an interactive table.\"\n",
              "              style=\"display:none;\">\n",
              "        \n",
              "  <svg xmlns=\"http://www.w3.org/2000/svg\" height=\"24px\"viewBox=\"0 0 24 24\"\n",
              "       width=\"24px\">\n",
              "    <path d=\"M0 0h24v24H0V0z\" fill=\"none\"/>\n",
              "    <path d=\"M18.56 5.44l.94 2.06.94-2.06 2.06-.94-2.06-.94-.94-2.06-.94 2.06-2.06.94zm-11 1L8.5 8.5l.94-2.06 2.06-.94-2.06-.94L8.5 2.5l-.94 2.06-2.06.94zm10 10l.94 2.06.94-2.06 2.06-.94-2.06-.94-.94-2.06-.94 2.06-2.06.94z\"/><path d=\"M17.41 7.96l-1.37-1.37c-.4-.4-.92-.59-1.43-.59-.52 0-1.04.2-1.43.59L10.3 9.45l-7.72 7.72c-.78.78-.78 2.05 0 2.83L4 21.41c.39.39.9.59 1.41.59.51 0 1.02-.2 1.41-.59l7.78-7.78 2.81-2.81c.8-.78.8-2.07 0-2.86zM5.41 20L4 18.59l7.72-7.72 1.47 1.35L5.41 20z\"/>\n",
              "  </svg>\n",
              "      </button>\n",
              "      \n",
              "  <style>\n",
              "    .colab-df-container {\n",
              "      display:flex;\n",
              "      flex-wrap:wrap;\n",
              "      gap: 12px;\n",
              "    }\n",
              "\n",
              "    .colab-df-convert {\n",
              "      background-color: #E8F0FE;\n",
              "      border: none;\n",
              "      border-radius: 50%;\n",
              "      cursor: pointer;\n",
              "      display: none;\n",
              "      fill: #1967D2;\n",
              "      height: 32px;\n",
              "      padding: 0 0 0 0;\n",
              "      width: 32px;\n",
              "    }\n",
              "\n",
              "    .colab-df-convert:hover {\n",
              "      background-color: #E2EBFA;\n",
              "      box-shadow: 0px 1px 2px rgba(60, 64, 67, 0.3), 0px 1px 3px 1px rgba(60, 64, 67, 0.15);\n",
              "      fill: #174EA6;\n",
              "    }\n",
              "\n",
              "    [theme=dark] .colab-df-convert {\n",
              "      background-color: #3B4455;\n",
              "      fill: #D2E3FC;\n",
              "    }\n",
              "\n",
              "    [theme=dark] .colab-df-convert:hover {\n",
              "      background-color: #434B5C;\n",
              "      box-shadow: 0px 1px 3px 1px rgba(0, 0, 0, 0.15);\n",
              "      filter: drop-shadow(0px 1px 2px rgba(0, 0, 0, 0.3));\n",
              "      fill: #FFFFFF;\n",
              "    }\n",
              "  </style>\n",
              "\n",
              "      <script>\n",
              "        const buttonEl =\n",
              "          document.querySelector('#df-6ce999ee-db01-4ef5-b51d-7f605ce94c6f button.colab-df-convert');\n",
              "        buttonEl.style.display =\n",
              "          google.colab.kernel.accessAllowed ? 'block' : 'none';\n",
              "\n",
              "        async function convertToInteractive(key) {\n",
              "          const element = document.querySelector('#df-6ce999ee-db01-4ef5-b51d-7f605ce94c6f');\n",
              "          const dataTable =\n",
              "            await google.colab.kernel.invokeFunction('convertToInteractive',\n",
              "                                                     [key], {});\n",
              "          if (!dataTable) return;\n",
              "\n",
              "          const docLinkHtml = 'Like what you see? Visit the ' +\n",
              "            '<a target=\"_blank\" href=https://colab.research.google.com/notebooks/data_table.ipynb>data table notebook</a>'\n",
              "            + ' to learn more about interactive tables.';\n",
              "          element.innerHTML = '';\n",
              "          dataTable['output_type'] = 'display_data';\n",
              "          await google.colab.output.renderOutput(dataTable, element);\n",
              "          const docLink = document.createElement('div');\n",
              "          docLink.innerHTML = docLinkHtml;\n",
              "          element.appendChild(docLink);\n",
              "        }\n",
              "      </script>\n",
              "    </div>\n",
              "  </div>\n",
              "  "
            ]
          },
          "metadata": {},
          "execution_count": 81
        }
      ]
    },
    {
      "cell_type": "code",
      "source": [
        "ionosphere = ionosphere.drop([1], axis=1)"
      ],
      "metadata": {
        "id": "Aj7TbEeXQgov"
      },
      "execution_count": null,
      "outputs": []
    },
    {
      "cell_type": "code",
      "source": [
        "ionosphere.iloc[:5,0:5]"
      ],
      "metadata": {
        "colab": {
          "base_uri": "https://localhost:8080/",
          "height": 206
        },
        "id": "c7zZr4X6RIhQ",
        "outputId": "064873db-453f-4dc7-86ee-04e8a8b1406f"
      },
      "execution_count": null,
      "outputs": [
        {
          "output_type": "execute_result",
          "data": {
            "text/plain": [
              "   0        2        3        4        5\n",
              "0  1  0.99539 -0.05889  0.85243  0.02306\n",
              "1  1  1.00000 -0.18829  0.93035 -0.36156\n",
              "2  1  1.00000 -0.03365  1.00000  0.00485\n",
              "3  1  1.00000 -0.45161  1.00000  1.00000\n",
              "4  1  1.00000 -0.02401  0.94140  0.06531"
            ],
            "text/html": [
              "\n",
              "  <div id=\"df-04d9f718-33d3-4da7-8a1e-90744d4b08c8\">\n",
              "    <div class=\"colab-df-container\">\n",
              "      <div>\n",
              "<style scoped>\n",
              "    .dataframe tbody tr th:only-of-type {\n",
              "        vertical-align: middle;\n",
              "    }\n",
              "\n",
              "    .dataframe tbody tr th {\n",
              "        vertical-align: top;\n",
              "    }\n",
              "\n",
              "    .dataframe thead th {\n",
              "        text-align: right;\n",
              "    }\n",
              "</style>\n",
              "<table border=\"1\" class=\"dataframe\">\n",
              "  <thead>\n",
              "    <tr style=\"text-align: right;\">\n",
              "      <th></th>\n",
              "      <th>0</th>\n",
              "      <th>2</th>\n",
              "      <th>3</th>\n",
              "      <th>4</th>\n",
              "      <th>5</th>\n",
              "    </tr>\n",
              "  </thead>\n",
              "  <tbody>\n",
              "    <tr>\n",
              "      <th>0</th>\n",
              "      <td>1</td>\n",
              "      <td>0.99539</td>\n",
              "      <td>-0.05889</td>\n",
              "      <td>0.85243</td>\n",
              "      <td>0.02306</td>\n",
              "    </tr>\n",
              "    <tr>\n",
              "      <th>1</th>\n",
              "      <td>1</td>\n",
              "      <td>1.00000</td>\n",
              "      <td>-0.18829</td>\n",
              "      <td>0.93035</td>\n",
              "      <td>-0.36156</td>\n",
              "    </tr>\n",
              "    <tr>\n",
              "      <th>2</th>\n",
              "      <td>1</td>\n",
              "      <td>1.00000</td>\n",
              "      <td>-0.03365</td>\n",
              "      <td>1.00000</td>\n",
              "      <td>0.00485</td>\n",
              "    </tr>\n",
              "    <tr>\n",
              "      <th>3</th>\n",
              "      <td>1</td>\n",
              "      <td>1.00000</td>\n",
              "      <td>-0.45161</td>\n",
              "      <td>1.00000</td>\n",
              "      <td>1.00000</td>\n",
              "    </tr>\n",
              "    <tr>\n",
              "      <th>4</th>\n",
              "      <td>1</td>\n",
              "      <td>1.00000</td>\n",
              "      <td>-0.02401</td>\n",
              "      <td>0.94140</td>\n",
              "      <td>0.06531</td>\n",
              "    </tr>\n",
              "  </tbody>\n",
              "</table>\n",
              "</div>\n",
              "      <button class=\"colab-df-convert\" onclick=\"convertToInteractive('df-04d9f718-33d3-4da7-8a1e-90744d4b08c8')\"\n",
              "              title=\"Convert this dataframe to an interactive table.\"\n",
              "              style=\"display:none;\">\n",
              "        \n",
              "  <svg xmlns=\"http://www.w3.org/2000/svg\" height=\"24px\"viewBox=\"0 0 24 24\"\n",
              "       width=\"24px\">\n",
              "    <path d=\"M0 0h24v24H0V0z\" fill=\"none\"/>\n",
              "    <path d=\"M18.56 5.44l.94 2.06.94-2.06 2.06-.94-2.06-.94-.94-2.06-.94 2.06-2.06.94zm-11 1L8.5 8.5l.94-2.06 2.06-.94-2.06-.94L8.5 2.5l-.94 2.06-2.06.94zm10 10l.94 2.06.94-2.06 2.06-.94-2.06-.94-.94-2.06-.94 2.06-2.06.94z\"/><path d=\"M17.41 7.96l-1.37-1.37c-.4-.4-.92-.59-1.43-.59-.52 0-1.04.2-1.43.59L10.3 9.45l-7.72 7.72c-.78.78-.78 2.05 0 2.83L4 21.41c.39.39.9.59 1.41.59.51 0 1.02-.2 1.41-.59l7.78-7.78 2.81-2.81c.8-.78.8-2.07 0-2.86zM5.41 20L4 18.59l7.72-7.72 1.47 1.35L5.41 20z\"/>\n",
              "  </svg>\n",
              "      </button>\n",
              "      \n",
              "  <style>\n",
              "    .colab-df-container {\n",
              "      display:flex;\n",
              "      flex-wrap:wrap;\n",
              "      gap: 12px;\n",
              "    }\n",
              "\n",
              "    .colab-df-convert {\n",
              "      background-color: #E8F0FE;\n",
              "      border: none;\n",
              "      border-radius: 50%;\n",
              "      cursor: pointer;\n",
              "      display: none;\n",
              "      fill: #1967D2;\n",
              "      height: 32px;\n",
              "      padding: 0 0 0 0;\n",
              "      width: 32px;\n",
              "    }\n",
              "\n",
              "    .colab-df-convert:hover {\n",
              "      background-color: #E2EBFA;\n",
              "      box-shadow: 0px 1px 2px rgba(60, 64, 67, 0.3), 0px 1px 3px 1px rgba(60, 64, 67, 0.15);\n",
              "      fill: #174EA6;\n",
              "    }\n",
              "\n",
              "    [theme=dark] .colab-df-convert {\n",
              "      background-color: #3B4455;\n",
              "      fill: #D2E3FC;\n",
              "    }\n",
              "\n",
              "    [theme=dark] .colab-df-convert:hover {\n",
              "      background-color: #434B5C;\n",
              "      box-shadow: 0px 1px 3px 1px rgba(0, 0, 0, 0.15);\n",
              "      filter: drop-shadow(0px 1px 2px rgba(0, 0, 0, 0.3));\n",
              "      fill: #FFFFFF;\n",
              "    }\n",
              "  </style>\n",
              "\n",
              "      <script>\n",
              "        const buttonEl =\n",
              "          document.querySelector('#df-04d9f718-33d3-4da7-8a1e-90744d4b08c8 button.colab-df-convert');\n",
              "        buttonEl.style.display =\n",
              "          google.colab.kernel.accessAllowed ? 'block' : 'none';\n",
              "\n",
              "        async function convertToInteractive(key) {\n",
              "          const element = document.querySelector('#df-04d9f718-33d3-4da7-8a1e-90744d4b08c8');\n",
              "          const dataTable =\n",
              "            await google.colab.kernel.invokeFunction('convertToInteractive',\n",
              "                                                     [key], {});\n",
              "          if (!dataTable) return;\n",
              "\n",
              "          const docLinkHtml = 'Like what you see? Visit the ' +\n",
              "            '<a target=\"_blank\" href=https://colab.research.google.com/notebooks/data_table.ipynb>data table notebook</a>'\n",
              "            + ' to learn more about interactive tables.';\n",
              "          element.innerHTML = '';\n",
              "          dataTable['output_type'] = 'display_data';\n",
              "          await google.colab.output.renderOutput(dataTable, element);\n",
              "          const docLink = document.createElement('div');\n",
              "          docLink.innerHTML = docLinkHtml;\n",
              "          element.appendChild(docLink);\n",
              "        }\n",
              "      </script>\n",
              "    </div>\n",
              "  </div>\n",
              "  "
            ]
          },
          "metadata": {},
          "execution_count": 12
        }
      ]
    },
    {
      "cell_type": "code",
      "source": [
        "ionosphere['Class'].value_counts()"
      ],
      "metadata": {
        "colab": {
          "base_uri": "https://localhost:8080/"
        },
        "id": "wPJWoJ3qnJAt",
        "outputId": "f52d3269-0b61-44fa-fc3e-94da582df811"
      },
      "execution_count": null,
      "outputs": [
        {
          "output_type": "execute_result",
          "data": {
            "text/plain": [
              "g    225\n",
              "b    125\n",
              "Name: Class, dtype: int64"
            ]
          },
          "metadata": {},
          "execution_count": 13
        }
      ]
    },
    {
      "cell_type": "code",
      "source": [
        "class_fr = ionosphere['Class'].value_counts().rename_axis('Label').reset_index(name='Jumlah')\n",
        "class_fr"
      ],
      "metadata": {
        "id": "A42r1JAITc0e",
        "colab": {
          "base_uri": "https://localhost:8080/",
          "height": 112
        },
        "outputId": "ae7dc049-2d55-41d5-c421-b1c80846c642"
      },
      "execution_count": null,
      "outputs": [
        {
          "output_type": "execute_result",
          "data": {
            "text/plain": [
              "  Label  Jumlah\n",
              "0     g     225\n",
              "1     b     125"
            ],
            "text/html": [
              "\n",
              "  <div id=\"df-fbdb9d83-3c2c-44f2-9f58-75253be449fe\">\n",
              "    <div class=\"colab-df-container\">\n",
              "      <div>\n",
              "<style scoped>\n",
              "    .dataframe tbody tr th:only-of-type {\n",
              "        vertical-align: middle;\n",
              "    }\n",
              "\n",
              "    .dataframe tbody tr th {\n",
              "        vertical-align: top;\n",
              "    }\n",
              "\n",
              "    .dataframe thead th {\n",
              "        text-align: right;\n",
              "    }\n",
              "</style>\n",
              "<table border=\"1\" class=\"dataframe\">\n",
              "  <thead>\n",
              "    <tr style=\"text-align: right;\">\n",
              "      <th></th>\n",
              "      <th>Label</th>\n",
              "      <th>Jumlah</th>\n",
              "    </tr>\n",
              "  </thead>\n",
              "  <tbody>\n",
              "    <tr>\n",
              "      <th>0</th>\n",
              "      <td>g</td>\n",
              "      <td>225</td>\n",
              "    </tr>\n",
              "    <tr>\n",
              "      <th>1</th>\n",
              "      <td>b</td>\n",
              "      <td>125</td>\n",
              "    </tr>\n",
              "  </tbody>\n",
              "</table>\n",
              "</div>\n",
              "      <button class=\"colab-df-convert\" onclick=\"convertToInteractive('df-fbdb9d83-3c2c-44f2-9f58-75253be449fe')\"\n",
              "              title=\"Convert this dataframe to an interactive table.\"\n",
              "              style=\"display:none;\">\n",
              "        \n",
              "  <svg xmlns=\"http://www.w3.org/2000/svg\" height=\"24px\"viewBox=\"0 0 24 24\"\n",
              "       width=\"24px\">\n",
              "    <path d=\"M0 0h24v24H0V0z\" fill=\"none\"/>\n",
              "    <path d=\"M18.56 5.44l.94 2.06.94-2.06 2.06-.94-2.06-.94-.94-2.06-.94 2.06-2.06.94zm-11 1L8.5 8.5l.94-2.06 2.06-.94-2.06-.94L8.5 2.5l-.94 2.06-2.06.94zm10 10l.94 2.06.94-2.06 2.06-.94-2.06-.94-.94-2.06-.94 2.06-2.06.94z\"/><path d=\"M17.41 7.96l-1.37-1.37c-.4-.4-.92-.59-1.43-.59-.52 0-1.04.2-1.43.59L10.3 9.45l-7.72 7.72c-.78.78-.78 2.05 0 2.83L4 21.41c.39.39.9.59 1.41.59.51 0 1.02-.2 1.41-.59l7.78-7.78 2.81-2.81c.8-.78.8-2.07 0-2.86zM5.41 20L4 18.59l7.72-7.72 1.47 1.35L5.41 20z\"/>\n",
              "  </svg>\n",
              "      </button>\n",
              "      \n",
              "  <style>\n",
              "    .colab-df-container {\n",
              "      display:flex;\n",
              "      flex-wrap:wrap;\n",
              "      gap: 12px;\n",
              "    }\n",
              "\n",
              "    .colab-df-convert {\n",
              "      background-color: #E8F0FE;\n",
              "      border: none;\n",
              "      border-radius: 50%;\n",
              "      cursor: pointer;\n",
              "      display: none;\n",
              "      fill: #1967D2;\n",
              "      height: 32px;\n",
              "      padding: 0 0 0 0;\n",
              "      width: 32px;\n",
              "    }\n",
              "\n",
              "    .colab-df-convert:hover {\n",
              "      background-color: #E2EBFA;\n",
              "      box-shadow: 0px 1px 2px rgba(60, 64, 67, 0.3), 0px 1px 3px 1px rgba(60, 64, 67, 0.15);\n",
              "      fill: #174EA6;\n",
              "    }\n",
              "\n",
              "    [theme=dark] .colab-df-convert {\n",
              "      background-color: #3B4455;\n",
              "      fill: #D2E3FC;\n",
              "    }\n",
              "\n",
              "    [theme=dark] .colab-df-convert:hover {\n",
              "      background-color: #434B5C;\n",
              "      box-shadow: 0px 1px 3px 1px rgba(0, 0, 0, 0.15);\n",
              "      filter: drop-shadow(0px 1px 2px rgba(0, 0, 0, 0.3));\n",
              "      fill: #FFFFFF;\n",
              "    }\n",
              "  </style>\n",
              "\n",
              "      <script>\n",
              "        const buttonEl =\n",
              "          document.querySelector('#df-fbdb9d83-3c2c-44f2-9f58-75253be449fe button.colab-df-convert');\n",
              "        buttonEl.style.display =\n",
              "          google.colab.kernel.accessAllowed ? 'block' : 'none';\n",
              "\n",
              "        async function convertToInteractive(key) {\n",
              "          const element = document.querySelector('#df-fbdb9d83-3c2c-44f2-9f58-75253be449fe');\n",
              "          const dataTable =\n",
              "            await google.colab.kernel.invokeFunction('convertToInteractive',\n",
              "                                                     [key], {});\n",
              "          if (!dataTable) return;\n",
              "\n",
              "          const docLinkHtml = 'Like what you see? Visit the ' +\n",
              "            '<a target=\"_blank\" href=https://colab.research.google.com/notebooks/data_table.ipynb>data table notebook</a>'\n",
              "            + ' to learn more about interactive tables.';\n",
              "          element.innerHTML = '';\n",
              "          dataTable['output_type'] = 'display_data';\n",
              "          await google.colab.output.renderOutput(dataTable, element);\n",
              "          const docLink = document.createElement('div');\n",
              "          docLink.innerHTML = docLinkHtml;\n",
              "          element.appendChild(docLink);\n",
              "        }\n",
              "      </script>\n",
              "    </div>\n",
              "  </div>\n",
              "  "
            ]
          },
          "metadata": {},
          "execution_count": 14
        }
      ]
    },
    {
      "cell_type": "code",
      "source": [
        "import matplotlib.pyplot as plt\n",
        "import seaborn as sns\n",
        "\n",
        "# Defining the plot size\n",
        "plt.figure(figsize=(8, 8))\n",
        "\n",
        "plots = sns.barplot(x=\"Label\", y=\"Jumlah\", data=class_fr)\n",
        "\n",
        "# # Iterrating over the bars one-by-one\n",
        "for bar in plots.patches:\n",
        "    # print('get height: ',bar.get_height())\n",
        "    # print('get x: ',bar.get_x())\n",
        "    # print('get width: ', bar.get_width())\n",
        "    # print(f'x-coordinate: {bar.get_x() + bar.get_width() / 2}\\n')\n",
        "    \n",
        "    plots.annotate(format(bar.get_height(), '.0f'),\n",
        "                   # x, y - coordinate\n",
        "                   (bar.get_x() + bar.get_width() / 2, bar.get_height()),\n",
        "                   # horizontal and vertical alignment\n",
        "                   ha='center', va='center',\n",
        "                   size=12, xytext=(0, 8),\n",
        "                   textcoords='offset points')"
      ],
      "metadata": {
        "colab": {
          "base_uri": "https://localhost:8080/",
          "height": 497
        },
        "id": "aPNM29FuYzQa",
        "outputId": "97efcb86-9103-4a7c-d3ef-a5391516a267"
      },
      "execution_count": null,
      "outputs": [
        {
          "output_type": "display_data",
          "data": {
            "text/plain": [
              "<Figure size 576x576 with 1 Axes>"
            ],
            "image/png": "[encoded data removed]"
          },
          "metadata": {
            "needs_background": "light"
          }
        }
      ]
    },
    {
      "cell_type": "markdown",
      "source": [
        "## Membangun Model Perceptron Linear Classifier"
      ],
      "metadata": {
        "id": "E_spTEx-VTIU"
      }
    },
    {
      "cell_type": "code",
      "source": [
        "X = ionosphere.drop(['Class'], axis=1)\n",
        "y = ionosphere.Class"
      ],
      "metadata": {
        "id": "7-0MVoFr52T6"
      },
      "execution_count": null,
      "outputs": []
    },
    {
      "cell_type": "code",
      "source": [
        "from sklearn import preprocessing\n",
        "  \n",
        "label_encoder = preprocessing.LabelEncoder()\n",
        "y = label_encoder.fit_transform(y)"
      ],
      "metadata": {
        "id": "-jNSd61OaJLo"
      },
      "execution_count": null,
      "outputs": []
    },
    {
      "cell_type": "code",
      "source": [
        "from sklearn.model_selection import train_test_split\n",
        "\n",
        "X_train, X_test, y_train, y_test = train_test_split(X, y, test_size=150, stratify=y, random_state=932)"
      ],
      "metadata": {
        "id": "LTjVwPn6P72R"
      },
      "execution_count": null,
      "outputs": []
    },
    {
      "cell_type": "code",
      "source": [
        "print(f'Panjang data train: {len(X_train)}')\n",
        "print(f'Panjang data test: {len(X_test)}')"
      ],
      "metadata": {
        "colab": {
          "base_uri": "https://localhost:8080/"
        },
        "id": "6Otbi58WMkBA",
        "outputId": "6f3fcd3c-ffb8-4bd1-e89c-22b9b02a4219"
      },
      "execution_count": null,
      "outputs": [
        {
          "output_type": "stream",
          "name": "stdout",
          "text": [
            "Panjang data train: 200\n",
            "Panjang data test: 150\n"
          ]
        }
      ]
    },
    {
      "cell_type": "markdown",
      "source": [
        "![image.png](data:image/png;base64,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)"
      ],
      "metadata": {
        "id": "tiV5LaTasbxs"
      }
    },
    {
      "cell_type": "code",
      "source": [
        "from math import comb\n",
        "\n",
        "print(f'Jumlah Kombinasi: {comb(350,150)}')"
      ],
      "metadata": {
        "colab": {
          "base_uri": "https://localhost:8080/"
        },
        "id": "pIAdUO2AcoqI",
        "outputId": "a41dce37-3dd7-46fd-a39e-690586e53e34"
      },
      "execution_count": null,
      "outputs": [
        {
          "output_type": "stream",
          "name": "stdout",
          "text": [
            "Jumlah Kombinasi: 2742787523526520418053171313242525834156826530151331921657600692192115838750139730652989654006510663378\n"
          ]
        }
      ]
    },
    {
      "cell_type": "markdown",
      "source": [
        "Stratifikasi mempertahankan proporsi bagaimana data didistribusikan di kolom target (y) dan menggambarkan proporsi distribusi yang sama di train_test_split. Ambil contoh, jika masalahnya adalah masalah klasifikasi biner, dan kolom target (y) memiliki proporsi 80% = ya, dan 20% = tidak (jumlah frekuensi label tidak seimbang). Karena ada 4 kali lebih banyak 'ya' daripada 'tidak' di kolom target (y), jika membagi menjadi y_train dan y_test tanpa stratifikasi, kita mungkin akan mengalami kesulitan karena kebanyakan nilai 'ya' yang akan masuk dalam set train, dan nilai 'tidak' akan masuk dalam set test. (ada kemungkinan, set train tidak memiliki nilai 'tidak')\n",
        "\n",
        "Oleh karena itu dengan Stratifikasi, kolom target untuk set pelatihan memiliki 80% 'ya' dan 20% 'tidak', dan juga, kolom target untuk set tes masing-masing memiliki 80% 'ya' dan 20% dari 'tidak'.\n",
        "\n",
        "Stratify membuat pemerataan target (label) di set training dan testing yang didistribusikan dari set data asli."
      ],
      "metadata": {
        "id": "Qk17ZOCZsAmw"
      }
    },
    {
      "cell_type": "code",
      "source": [
        "import numpy as np"
      ],
      "metadata": {
        "id": "blo92nGVUN1q"
      },
      "execution_count": null,
      "outputs": []
    },
    {
      "cell_type": "code",
      "source": [
        "unique, counts = np.unique(y_train, return_counts=True)\n",
        "dict(zip(unique, counts))"
      ],
      "metadata": {
        "colab": {
          "base_uri": "https://localhost:8080/"
        },
        "id": "CuCvs066nED3",
        "outputId": "7ffcfb21-9bc1-48ac-afe2-27b9bfb2def7"
      },
      "execution_count": null,
      "outputs": [
        {
          "output_type": "execute_result",
          "data": {
            "text/plain": [
              "{0: 71, 1: 129}"
            ]
          },
          "metadata": {},
          "execution_count": 23
        }
      ]
    },
    {
      "cell_type": "code",
      "source": [
        "unique, counts = np.unique(y_test, return_counts=True)\n",
        "dict(zip(unique, counts))"
      ],
      "metadata": {
        "colab": {
          "base_uri": "https://localhost:8080/"
        },
        "id": "3w3IplRyqyrH",
        "outputId": "969d03ef-90cc-48ef-c4fa-e729fa96ee64"
      },
      "execution_count": null,
      "outputs": [
        {
          "output_type": "execute_result",
          "data": {
            "text/plain": [
              "{0: 54, 1: 96}"
            ]
          },
          "metadata": {},
          "execution_count": 24
        }
      ]
    },
    {
      "cell_type": "code",
      "source": [
        "print(f'Proporsi data train class good: {(129/225*100):.0f}%')\n",
        "print(f'Proporsi data test class good: {(96/225*100):.0f}%\\n')\n",
        "\n",
        "print(f'Proporsi data train class bad: {(71/125*100):.0f}%')\n",
        "print(f'Proporsi data test class bad: {(54/125*100):.0f}%')"
      ],
      "metadata": {
        "colab": {
          "base_uri": "https://localhost:8080/"
        },
        "id": "MR0tRnmbbYuh",
        "outputId": "e7d7518f-a49d-4bb9-8293-2b2571a41ac0"
      },
      "execution_count": null,
      "outputs": [
        {
          "output_type": "stream",
          "name": "stdout",
          "text": [
            "Proporsi data train class good: 57%\n",
            "Proporsi data test class good: 43%\n",
            "\n",
            "Proporsi data train class bad: 57%\n",
            "Proporsi data test class bad: 43%\n"
          ]
        }
      ]
    },
    {
      "cell_type": "code",
      "source": [
        "from sklearn.linear_model import Perceptron\n",
        "\n",
        "per_clf = Perceptron(random_state=894, class_weight='balanced')\n",
        "per_clf.fit(X_train, y_train)"
      ],
      "metadata": {
        "id": "hgTEGeRT6FvX",
        "colab": {
          "base_uri": "https://localhost:8080/"
        },
        "outputId": "bf6180ff-bff1-4eec-9773-5e79d64edf9b"
      },
      "execution_count": null,
      "outputs": [
        {
          "output_type": "execute_result",
          "data": {
            "text/plain": [
              "Perceptron(class_weight='balanced', random_state=894)"
            ]
          },
          "metadata": {},
          "execution_count": 26
        }
      ]
    },
    {
      "cell_type": "markdown",
      "source": [
        "Fungsi aktivasi linier, juga dikenal sebagai \"tidak ada aktivasi\", atau \"fungsi identitas\" (dikalikan x1.0), adalah di mana aktivasi sebanding dengan input. Fungsi tidak melakukan apa pun terhadap jumlah bobot masukan, ia hanya mengeluarkan nilai yang diberikan."
      ],
      "metadata": {
        "id": "1WEyFWBXTraf"
      }
    },
    {
      "cell_type": "markdown",
      "source": [
        "![image.png](data:image/png;base64,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)"
      ],
      "metadata": {
        "id": "q7_pLrJ_UED8"
      }
    },
    {
      "cell_type": "markdown",
      "source": [
        "Class weight seimbang adalah salah satu metode yang banyak digunakan untuk model klasifikasi tidak seimbang. Ini memodifikasi bobot kelas dari kelas mayoritas dan minoritas selama proses pelatihan model untuk mencapai hasil model yang lebih baik.\n",
        "\n",
        "![image.png](data:image/png;base64,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)"
      ],
      "metadata": {
        "id": "IeAdnHZfLT95"
      }
    },
    {
      "cell_type": "code",
      "source": [
        "n_samples = 350 #jumlah data\n",
        "n_classes = 2 #bad & good\n",
        "n_sample_0 = 125 #jumlah bad\n",
        "n_sample_1 = 225 #jumlah good\n",
        "\n",
        "w0 = n_samples/(n_classes*n_sample_0)\n",
        "w1 = n_samples/(n_classes*n_sample_1)\n",
        "\n",
        "print(f'Bobot untuk kelas bad: {w0}')\n",
        "print(f'Bobot untuk kelas good: {w1:.2f}')"
      ],
      "metadata": {
        "colab": {
          "base_uri": "https://localhost:8080/"
        },
        "id": "D6cxO5UXX13i",
        "outputId": "3987f0d7-de09-4140-a995-9aeca092fe04"
      },
      "execution_count": null,
      "outputs": [
        {
          "output_type": "stream",
          "name": "stdout",
          "text": [
            "Bobot untuk kelas bad: 1.4\n",
            "Bobot untuk kelas good: 0.78\n"
          ]
        }
      ]
    },
    {
      "cell_type": "markdown",
      "source": [
        "Ini membuatnya lebih jelas bahwa class_weight = 'balanced' membantu dalam memberikan bobot yang lebih tinggi kepada kelas minoritas dan bobot yang lebih rendah kepada kelas mayoritas."
      ],
      "metadata": {
        "id": "-FhTNkijY3zj"
      }
    },
    {
      "cell_type": "markdown",
      "source": [
        "## Matrik Akurasi"
      ],
      "metadata": {
        "id": "EwfNdaE3WW2P"
      }
    },
    {
      "cell_type": "code",
      "source": [
        "print(f'Akurasi datatrain: {per_clf.score(X_train, y_train)*100}%')"
      ],
      "metadata": {
        "colab": {
          "base_uri": "https://localhost:8080/"
        },
        "id": "kdeCmtFxVrZZ",
        "outputId": "1bb80613-eb94-4780-e163-ac3b82d27f05"
      },
      "execution_count": null,
      "outputs": [
        {
          "output_type": "stream",
          "name": "stdout",
          "text": [
            "Akurasi datatrain: 90.5%\n"
          ]
        }
      ]
    },
    {
      "cell_type": "code",
      "source": [
        "print(f'Akurasi datatest: {per_clf.score(X_test, y_test)*100}%')"
      ],
      "metadata": {
        "colab": {
          "base_uri": "https://localhost:8080/"
        },
        "id": "ahSjQkcgV57L",
        "outputId": "0044fbbf-f969-465f-f422-ffc7d2528966"
      },
      "execution_count": null,
      "outputs": [
        {
          "output_type": "stream",
          "name": "stdout",
          "text": [
            "Akurasi datatest: 96.0%\n"
          ]
        }
      ]
    },
    {
      "cell_type": "code",
      "source": [
        "y_pred = per_clf.predict(X_test)"
      ],
      "metadata": {
        "id": "gHpkrkd9LxVp"
      },
      "execution_count": null,
      "outputs": []
    },
    {
      "cell_type": "code",
      "source": [
        "from sklearn.metrics import accuracy_score\n",
        "\n",
        "print(f'Accuracy Score: {accuracy_score(y_test, y_pred)*100:.2f}%')"
      ],
      "metadata": {
        "colab": {
          "base_uri": "https://localhost:8080/"
        },
        "id": "omswa3PFrUh8",
        "outputId": "95e9b7cd-2ca0-420b-d5ad-def580668485"
      },
      "execution_count": null,
      "outputs": [
        {
          "output_type": "stream",
          "name": "stdout",
          "text": [
            "Accuracy Score: 96.00%\n"
          ]
        }
      ]
    },
    {
      "cell_type": "code",
      "source": [
        "import seaborn as sns\n",
        "import matplotlib.pyplot as plt\n",
        "from sklearn.metrics import confusion_matrix\n",
        "\n",
        "cf_matrix = confusion_matrix(y_test, y_pred)\n",
        "\n",
        "df_cm = pd.DataFrame(cf_matrix)\n",
        "plt.figure(figsize=(10,7))\n",
        "sns.set(font_scale=1)\n",
        "sns.heatmap(df_cm, annot=True, annot_kws={\"size\": 12}, fmt='g')\n",
        "plt.xlabel('Predicted Label')\n",
        "plt.ylabel('True Label')\n",
        "\n",
        "plt.show()"
      ],
      "metadata": {
        "colab": {
          "base_uri": "https://localhost:8080/",
          "height": 448
        },
        "id": "gcxQz_K2QQBl",
        "outputId": "db2d0bb6-4dcc-4878-b307-12a12dd2971d"
      },
      "execution_count": null,
      "outputs": [
        {
          "output_type": "display_data",
          "data": {
            "text/plain": [
              "<Figure size 720x504 with 2 Axes>"
            ],
            "image/png": "[encoded data removed]"
          },
          "metadata": {
            "needs_background": "light"
          }
        }
      ]
    },
    {
      "cell_type": "code",
      "source": [
        "from sklearn.metrics import f1_score\n",
        "\n",
        "print(f'F1 Score: {f1_score(y_test, y_pred)*100:.2f}%')"
      ],
      "metadata": {
        "colab": {
          "base_uri": "https://localhost:8080/"
        },
        "id": "evVzWyZEWHGw",
        "outputId": "1830493f-c3ab-47a1-a7a5-e36f80585fd8"
      },
      "execution_count": null,
      "outputs": [
        {
          "output_type": "stream",
          "name": "stdout",
          "text": [
            "F1 Score: 96.94%\n"
          ]
        }
      ]
    },
    {
      "cell_type": "markdown",
      "source": [
        "##Tuning"
      ],
      "metadata": {
        "id": "6I0oG957Nuiu"
      }
    },
    {
      "cell_type": "code",
      "source": [
        "from sklearn.model_selection import train_test_split\n",
        "\n",
        "id = []\n",
        "jd = []\n",
        "acc = []\n",
        "\n",
        "for i in range(0, 1000):\n",
        "  X_train, X_test, y_train, y_test = train_test_split(X, y, test_size=150, random_state=i, stratify=y)\n",
        "\n",
        "  for j in range(0, 1000):\n",
        "    from sklearn.linear_model import Perceptron\n",
        "\n",
        "    per_clf = Perceptron(random_state=j, class_weight='balanced')\n",
        "    per_clf.fit(X_train, y_train)\n",
        "\n",
        "    y_pred = per_clf.predict(X_test)\n",
        "    from sklearn.metrics import accuracy_score\n",
        "\n",
        "    id.append(i)\n",
        "    jd.append(j)\n",
        "    acc.append(accuracy_score(y_test, y_pred))\n",
        "  \n",
        "print(f'Accuracy: {max(acc)} %')"
      ],
      "metadata": {
        "id": "lKZv0V_HLXlo"
      },
      "execution_count": null,
      "outputs": []
    },
    {
      "cell_type": "code",
      "source": [
        "print('index:', np.argmax(acc),\n",
        "      '\\nrandom_state train_test_split: ', id[np.argmax(acc)], \n",
        "      '\\nrandom_state perceptron: ', jd[np.argmax(acc)])"
      ],
      "metadata": {
        "id": "WQJl4BUDNyMn"
      },
      "execution_count": null,
      "outputs": []
    }
  ]
}